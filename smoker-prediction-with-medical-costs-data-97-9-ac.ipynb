{
 "cells": [
  {
   "cell_type": "markdown",
   "id": "6315e93f",
   "metadata": {
    "_cell_guid": "b1076dfc-b9ad-4769-8c92-a6c4dae69d19",
    "_uuid": "8f2839f25d086af736a60e9eeb907d3b93b6e0e5",
    "execution": {
     "iopub.execute_input": "2022-11-30T04:53:14.526501Z",
     "iopub.status.busy": "2022-11-30T04:53:14.525368Z",
     "iopub.status.idle": "2022-11-30T04:53:14.533510Z",
     "shell.execute_reply": "2022-11-30T04:53:14.532541Z",
     "shell.execute_reply.started": "2022-11-30T04:53:14.526461Z"
    },
    "papermill": {
     "duration": 0.012001,
     "end_time": "2022-12-02T07:33:07.395188",
     "exception": false,
     "start_time": "2022-12-02T07:33:07.383187",
     "status": "completed"
    },
    "tags": []
   },
   "source": [
    "## Import Libraries "
   ]
  },
  {
   "cell_type": "code",
   "execution_count": 1,
   "id": "8993b3ec",
   "metadata": {
    "execution": {
     "iopub.execute_input": "2022-12-02T07:33:07.417496Z",
     "iopub.status.busy": "2022-12-02T07:33:07.417011Z",
     "iopub.status.idle": "2022-12-02T07:33:09.679865Z",
     "shell.execute_reply": "2022-12-02T07:33:09.678441Z"
    },
    "papermill": {
     "duration": 2.277713,
     "end_time": "2022-12-02T07:33:09.683273",
     "exception": false,
     "start_time": "2022-12-02T07:33:07.405560",
     "status": "completed"
    },
    "tags": []
   },
   "outputs": [],
   "source": [
    "import pandas as pd\n",
    "import numpy as np\n",
    "from sklearn.model_selection import train_test_split, cross_val_score, RandomizedSearchCV\n",
    "import matplotlib.pyplot as plt\n",
    "import seaborn as sns\n",
    "from sklearn.pipeline import Pipeline\n",
    "import warnings\n",
    "warnings.filterwarnings(\"ignore\")\n",
    "\n",
    "from sklearn.svm import SVC\n",
    "from sklearn.linear_model import LogisticRegression\n",
    "from sklearn.ensemble import RandomForestClassifier\n",
    "from sklearn.tree import DecisionTreeClassifier\n",
    "from sklearn.ensemble import GradientBoostingClassifier\n",
    "from sklearn.neighbors import KNeighborsClassifier\n",
    "from sklearn.preprocessing import LabelEncoder, StandardScaler\n",
    "\n",
    "import optuna\n",
    "\n",
    "from sklearn.metrics import accuracy_score, classification_report, plot_roc_curve\n",
    "from sklearn.metrics import confusion_matrix, ConfusionMatrixDisplay\n"
   ]
  },
  {
   "cell_type": "markdown",
   "id": "1ac86911",
   "metadata": {
    "papermill": {
     "duration": 0.013277,
     "end_time": "2022-12-02T07:33:09.708310",
     "exception": false,
     "start_time": "2022-12-02T07:33:09.695033",
     "status": "completed"
    },
    "tags": []
   },
   "source": [
    "## Understanding the data"
   ]
  },
  {
   "cell_type": "code",
   "execution_count": 2,
   "id": "ecffec3d",
   "metadata": {
    "execution": {
     "iopub.execute_input": "2022-12-02T07:33:09.731400Z",
     "iopub.status.busy": "2022-12-02T07:33:09.730591Z",
     "iopub.status.idle": "2022-12-02T07:33:09.781305Z",
     "shell.execute_reply": "2022-12-02T07:33:09.779656Z"
    },
    "papermill": {
     "duration": 0.065356,
     "end_time": "2022-12-02T07:33:09.784331",
     "exception": false,
     "start_time": "2022-12-02T07:33:09.718975",
     "status": "completed"
    },
    "tags": []
   },
   "outputs": [
    {
     "data": {
      "text/html": [
       "<div>\n",
       "<style scoped>\n",
       "    .dataframe tbody tr th:only-of-type {\n",
       "        vertical-align: middle;\n",
       "    }\n",
       "\n",
       "    .dataframe tbody tr th {\n",
       "        vertical-align: top;\n",
       "    }\n",
       "\n",
       "    .dataframe thead th {\n",
       "        text-align: right;\n",
       "    }\n",
       "</style>\n",
       "<table border=\"1\" class=\"dataframe\">\n",
       "  <thead>\n",
       "    <tr style=\"text-align: right;\">\n",
       "      <th></th>\n",
       "      <th>age</th>\n",
       "      <th>sex</th>\n",
       "      <th>bmi</th>\n",
       "      <th>children</th>\n",
       "      <th>smoker</th>\n",
       "      <th>region</th>\n",
       "      <th>charges</th>\n",
       "    </tr>\n",
       "  </thead>\n",
       "  <tbody>\n",
       "    <tr>\n",
       "      <th>0</th>\n",
       "      <td>19</td>\n",
       "      <td>female</td>\n",
       "      <td>27.900</td>\n",
       "      <td>0</td>\n",
       "      <td>yes</td>\n",
       "      <td>southwest</td>\n",
       "      <td>16884.92400</td>\n",
       "    </tr>\n",
       "    <tr>\n",
       "      <th>1</th>\n",
       "      <td>18</td>\n",
       "      <td>male</td>\n",
       "      <td>33.770</td>\n",
       "      <td>1</td>\n",
       "      <td>no</td>\n",
       "      <td>southeast</td>\n",
       "      <td>1725.55230</td>\n",
       "    </tr>\n",
       "    <tr>\n",
       "      <th>2</th>\n",
       "      <td>28</td>\n",
       "      <td>male</td>\n",
       "      <td>33.000</td>\n",
       "      <td>3</td>\n",
       "      <td>no</td>\n",
       "      <td>southeast</td>\n",
       "      <td>4449.46200</td>\n",
       "    </tr>\n",
       "    <tr>\n",
       "      <th>3</th>\n",
       "      <td>33</td>\n",
       "      <td>male</td>\n",
       "      <td>22.705</td>\n",
       "      <td>0</td>\n",
       "      <td>no</td>\n",
       "      <td>northwest</td>\n",
       "      <td>21984.47061</td>\n",
       "    </tr>\n",
       "    <tr>\n",
       "      <th>4</th>\n",
       "      <td>32</td>\n",
       "      <td>male</td>\n",
       "      <td>28.880</td>\n",
       "      <td>0</td>\n",
       "      <td>no</td>\n",
       "      <td>northwest</td>\n",
       "      <td>3866.85520</td>\n",
       "    </tr>\n",
       "  </tbody>\n",
       "</table>\n",
       "</div>"
      ],
      "text/plain": [
       "   age     sex     bmi  children smoker     region      charges\n",
       "0   19  female  27.900         0    yes  southwest  16884.92400\n",
       "1   18    male  33.770         1     no  southeast   1725.55230\n",
       "2   28    male  33.000         3     no  southeast   4449.46200\n",
       "3   33    male  22.705         0     no  northwest  21984.47061\n",
       "4   32    male  28.880         0     no  northwest   3866.85520"
      ]
     },
     "execution_count": 2,
     "metadata": {},
     "output_type": "execute_result"
    }
   ],
   "source": [
    "df = pd.read_csv('D/documents/insurance/insurance.csv')\n",
    "df.head()"
   ]
  },
  {
   "cell_type": "code",
   "execution_count": 3,
   "id": "84a0db66",
   "metadata": {
    "execution": {
     "iopub.execute_input": "2022-12-02T07:33:09.807929Z",
     "iopub.status.busy": "2022-12-02T07:33:09.807482Z",
     "iopub.status.idle": "2022-12-02T07:33:09.841763Z",
     "shell.execute_reply": "2022-12-02T07:33:09.840164Z"
    },
    "papermill": {
     "duration": 0.050238,
     "end_time": "2022-12-02T07:33:09.844690",
     "exception": false,
     "start_time": "2022-12-02T07:33:09.794452",
     "status": "completed"
    },
    "tags": []
   },
   "outputs": [
    {
     "name": "stdout",
     "output_type": "stream",
     "text": [
      "<class 'pandas.core.frame.DataFrame'>\n",
      "RangeIndex: 1338 entries, 0 to 1337\n",
      "Data columns (total 7 columns):\n",
      " #   Column    Non-Null Count  Dtype  \n",
      "---  ------    --------------  -----  \n",
      " 0   age       1338 non-null   int64  \n",
      " 1   sex       1338 non-null   object \n",
      " 2   bmi       1338 non-null   float64\n",
      " 3   children  1338 non-null   int64  \n",
      " 4   smoker    1338 non-null   object \n",
      " 5   region    1338 non-null   object \n",
      " 6   charges   1338 non-null   float64\n",
      "dtypes: float64(2), int64(2), object(3)\n",
      "memory usage: 73.3+ KB\n"
     ]
    }
   ],
   "source": [
    "df.info()"
   ]
  },
  {
   "cell_type": "code",
   "execution_count": 4,
   "id": "68df3a76",
   "metadata": {
    "execution": {
     "iopub.execute_input": "2022-12-02T07:33:09.870524Z",
     "iopub.status.busy": "2022-12-02T07:33:09.870107Z",
     "iopub.status.idle": "2022-12-02T07:33:09.881356Z",
     "shell.execute_reply": "2022-12-02T07:33:09.879427Z"
    },
    "papermill": {
     "duration": 0.028286,
     "end_time": "2022-12-02T07:33:09.884800",
     "exception": false,
     "start_time": "2022-12-02T07:33:09.856514",
     "status": "completed"
    },
    "tags": []
   },
   "outputs": [],
   "source": [
    "le = LabelEncoder()\n",
    "\n",
    "df['sex'] = le.fit_transform(df['sex'])\n",
    "df['smoker'] = le.fit_transform(df['smoker'])\n",
    "df['region'] = le.fit_transform(df['region'])"
   ]
  },
  {
   "cell_type": "code",
   "execution_count": 5,
   "id": "647e336a",
   "metadata": {
    "execution": {
     "iopub.execute_input": "2022-12-02T07:33:09.909294Z",
     "iopub.status.busy": "2022-12-02T07:33:09.908871Z",
     "iopub.status.idle": "2022-12-02T07:33:09.928819Z",
     "shell.execute_reply": "2022-12-02T07:33:09.927557Z"
    },
    "papermill": {
     "duration": 0.035084,
     "end_time": "2022-12-02T07:33:09.931527",
     "exception": false,
     "start_time": "2022-12-02T07:33:09.896443",
     "status": "completed"
    },
    "tags": []
   },
   "outputs": [
    {
     "data": {
      "text/html": [
       "<div>\n",
       "<style scoped>\n",
       "    .dataframe tbody tr th:only-of-type {\n",
       "        vertical-align: middle;\n",
       "    }\n",
       "\n",
       "    .dataframe tbody tr th {\n",
       "        vertical-align: top;\n",
       "    }\n",
       "\n",
       "    .dataframe thead th {\n",
       "        text-align: right;\n",
       "    }\n",
       "</style>\n",
       "<table border=\"1\" class=\"dataframe\">\n",
       "  <thead>\n",
       "    <tr style=\"text-align: right;\">\n",
       "      <th></th>\n",
       "      <th>unique count</th>\n",
       "    </tr>\n",
       "  </thead>\n",
       "  <tbody>\n",
       "    <tr>\n",
       "      <th>age</th>\n",
       "      <td>47</td>\n",
       "    </tr>\n",
       "    <tr>\n",
       "      <th>sex</th>\n",
       "      <td>2</td>\n",
       "    </tr>\n",
       "    <tr>\n",
       "      <th>bmi</th>\n",
       "      <td>548</td>\n",
       "    </tr>\n",
       "    <tr>\n",
       "      <th>children</th>\n",
       "      <td>6</td>\n",
       "    </tr>\n",
       "    <tr>\n",
       "      <th>smoker</th>\n",
       "      <td>2</td>\n",
       "    </tr>\n",
       "    <tr>\n",
       "      <th>region</th>\n",
       "      <td>4</td>\n",
       "    </tr>\n",
       "    <tr>\n",
       "      <th>charges</th>\n",
       "      <td>1337</td>\n",
       "    </tr>\n",
       "  </tbody>\n",
       "</table>\n",
       "</div>"
      ],
      "text/plain": [
       "          unique count\n",
       "age                 47\n",
       "sex                  2\n",
       "bmi                548\n",
       "children             6\n",
       "smoker               2\n",
       "region               4\n",
       "charges           1337"
      ]
     },
     "execution_count": 5,
     "metadata": {},
     "output_type": "execute_result"
    }
   ],
   "source": [
    "dict = {}\n",
    "for i in list(df.columns):\n",
    "    dict[i] = df[i].value_counts().shape[0]\n",
    "\n",
    "pd.DataFrame(dict,index=[\"unique count\"]).transpose()"
   ]
  },
  {
   "cell_type": "markdown",
   "id": "9a3d1773",
   "metadata": {
    "papermill": {
     "duration": 0.010943,
     "end_time": "2022-12-02T07:33:09.953347",
     "exception": false,
     "start_time": "2022-12-02T07:33:09.942404",
     "status": "completed"
    },
    "tags": []
   },
   "source": [
    "## Visualization\n",
    "Up untill this point i was going to treat it as a regression problem and have \"Charges\" as the target, so i decided to put some things in visual form to see if i was missing anything, and thats when something stood out to me, the huge discrepancy on the **'smoker'** plot.\n"
   ]
  },
  {
   "cell_type": "code",
   "execution_count": 6,
   "id": "b005501f",
   "metadata": {
    "execution": {
     "iopub.execute_input": "2022-12-02T07:33:09.976091Z",
     "iopub.status.busy": "2022-12-02T07:33:09.975614Z",
     "iopub.status.idle": "2022-12-02T07:33:58.804859Z",
     "shell.execute_reply": "2022-12-02T07:33:58.802737Z"
    },
    "papermill": {
     "duration": 48.85221,
     "end_time": "2022-12-02T07:33:58.815732",
     "exception": false,
     "start_time": "2022-12-02T07:33:09.963522",
     "status": "completed"
    },
    "tags": []
   },
   "outputs": [
    {
     "data": {
      "text/plain": [
       "<AxesSubplot:xlabel='region', ylabel='charges'>"
      ]
     },
     "execution_count": 6,
     "metadata": {},
     "output_type": "execute_result"
    },
    {
     "data": {
      "image/png": "[encoded data removed]",
      "text/plain": [
       "<Figure size 1296x1080 with 6 Axes>"
      ]
     },
     "metadata": {
      "needs_background": "light"
     },
     "output_type": "display_data"
    }
   ],
   "source": [
    "fig = plt.figure(figsize=(18,15))\n",
    "gs = fig.add_gridspec(2,3)\n",
    "gs.update(wspace=0.5, hspace=0.25)\n",
    "ax0 = fig.add_subplot(gs[0,0])\n",
    "ax1 = fig.add_subplot(gs[0,1])\n",
    "ax2 = fig.add_subplot(gs[0,2])\n",
    "ax3 = fig.add_subplot(gs[1,0])\n",
    "ax4 = fig.add_subplot(gs[1,1])\n",
    "ax5 = fig.add_subplot(gs[1,2])\n",
    "\n",
    "sns.barplot(ax=ax0,data=df,x='charges',y = 'age')\n",
    "sns.barplot(ax=ax1,data=df,x='sex',y = 'charges')\n",
    "sns.barplot(ax=ax2,data=df,x='charges',y = 'bmi')\n",
    "sns.barplot(ax=ax3,data=df,x='children',y = 'charges')\n",
    "sns.barplot(ax=ax4,data=df,x='smoker',y = 'charges')\n",
    "sns.barplot(ax=ax5,data=df,x='region',y = 'charges')"
   ]
  },
  {
   "cell_type": "markdown",
   "id": "95ab85e7",
   "metadata": {
    "papermill": {
     "duration": 0.011518,
     "end_time": "2022-12-02T07:33:58.838227",
     "exception": false,
     "start_time": "2022-12-02T07:33:58.826709",
     "status": "completed"
    },
    "tags": []
   },
   "source": [
    "## Confirmation\n",
    "The idea was that smoking was by far the feature with the highest relevance / correlation with medical charges, so i checked to make sure.\n"
   ]
  },
  {
   "cell_type": "code",
   "execution_count": 7,
   "id": "658c5326",
   "metadata": {
    "execution": {
     "iopub.execute_input": "2022-12-02T07:33:58.865555Z",
     "iopub.status.busy": "2022-12-02T07:33:58.864915Z",
     "iopub.status.idle": "2022-12-02T07:33:58.885903Z",
     "shell.execute_reply": "2022-12-02T07:33:58.883955Z"
    },
    "papermill": {
     "duration": 0.038839,
     "end_time": "2022-12-02T07:33:58.889264",
     "exception": false,
     "start_time": "2022-12-02T07:33:58.850425",
     "status": "completed"
    },
    "tags": []
   },
   "outputs": [
    {
     "data": {
      "text/html": [
       "<div>\n",
       "<style scoped>\n",
       "    .dataframe tbody tr th:only-of-type {\n",
       "        vertical-align: middle;\n",
       "    }\n",
       "\n",
       "    .dataframe tbody tr th {\n",
       "        vertical-align: top;\n",
       "    }\n",
       "\n",
       "    .dataframe thead th {\n",
       "        text-align: right;\n",
       "    }\n",
       "</style>\n",
       "<table border=\"1\" class=\"dataframe\">\n",
       "  <thead>\n",
       "    <tr style=\"text-align: right;\">\n",
       "      <th></th>\n",
       "      <th>age</th>\n",
       "      <th>sex</th>\n",
       "      <th>bmi</th>\n",
       "      <th>children</th>\n",
       "      <th>smoker</th>\n",
       "      <th>region</th>\n",
       "      <th>charges</th>\n",
       "    </tr>\n",
       "  </thead>\n",
       "  <tbody>\n",
       "    <tr>\n",
       "      <th>age</th>\n",
       "      <td>1.000000</td>\n",
       "      <td>-0.020856</td>\n",
       "      <td>0.109272</td>\n",
       "      <td>0.042469</td>\n",
       "      <td>-0.025019</td>\n",
       "      <td>0.002127</td>\n",
       "      <td>0.299008</td>\n",
       "    </tr>\n",
       "    <tr>\n",
       "      <th>sex</th>\n",
       "      <td>-0.020856</td>\n",
       "      <td>1.000000</td>\n",
       "      <td>0.046371</td>\n",
       "      <td>0.017163</td>\n",
       "      <td>0.076185</td>\n",
       "      <td>0.004588</td>\n",
       "      <td>0.057292</td>\n",
       "    </tr>\n",
       "    <tr>\n",
       "      <th>bmi</th>\n",
       "      <td>0.109272</td>\n",
       "      <td>0.046371</td>\n",
       "      <td>1.000000</td>\n",
       "      <td>0.012759</td>\n",
       "      <td>0.003750</td>\n",
       "      <td>0.157566</td>\n",
       "      <td>0.198341</td>\n",
       "    </tr>\n",
       "    <tr>\n",
       "      <th>children</th>\n",
       "      <td>0.042469</td>\n",
       "      <td>0.017163</td>\n",
       "      <td>0.012759</td>\n",
       "      <td>1.000000</td>\n",
       "      <td>0.007673</td>\n",
       "      <td>0.016569</td>\n",
       "      <td>0.067998</td>\n",
       "    </tr>\n",
       "    <tr>\n",
       "      <th>smoker</th>\n",
       "      <td>-0.025019</td>\n",
       "      <td>0.076185</td>\n",
       "      <td>0.003750</td>\n",
       "      <td>0.007673</td>\n",
       "      <td>1.000000</td>\n",
       "      <td>-0.002181</td>\n",
       "      <td>0.787251</td>\n",
       "    </tr>\n",
       "    <tr>\n",
       "      <th>region</th>\n",
       "      <td>0.002127</td>\n",
       "      <td>0.004588</td>\n",
       "      <td>0.157566</td>\n",
       "      <td>0.016569</td>\n",
       "      <td>-0.002181</td>\n",
       "      <td>1.000000</td>\n",
       "      <td>-0.006208</td>\n",
       "    </tr>\n",
       "    <tr>\n",
       "      <th>charges</th>\n",
       "      <td>0.299008</td>\n",
       "      <td>0.057292</td>\n",
       "      <td>0.198341</td>\n",
       "      <td>0.067998</td>\n",
       "      <td>0.787251</td>\n",
       "      <td>-0.006208</td>\n",
       "      <td>1.000000</td>\n",
       "    </tr>\n",
       "  </tbody>\n",
       "</table>\n",
       "</div>"
      ],
      "text/plain": [
       "               age       sex       bmi  children    smoker    region   charges\n",
       "age       1.000000 -0.020856  0.109272  0.042469 -0.025019  0.002127  0.299008\n",
       "sex      -0.020856  1.000000  0.046371  0.017163  0.076185  0.004588  0.057292\n",
       "bmi       0.109272  0.046371  1.000000  0.012759  0.003750  0.157566  0.198341\n",
       "children  0.042469  0.017163  0.012759  1.000000  0.007673  0.016569  0.067998\n",
       "smoker   -0.025019  0.076185  0.003750  0.007673  1.000000 -0.002181  0.787251\n",
       "region    0.002127  0.004588  0.157566  0.016569 -0.002181  1.000000 -0.006208\n",
       "charges   0.299008  0.057292  0.198341  0.067998  0.787251 -0.006208  1.000000"
      ]
     },
     "execution_count": 7,
     "metadata": {},
     "output_type": "execute_result"
    }
   ],
   "source": [
    "df.corr()"
   ]
  },
  {
   "cell_type": "code",
   "execution_count": 8,
   "id": "874fb913",
   "metadata": {
    "execution": {
     "iopub.execute_input": "2022-12-02T07:33:58.915927Z",
     "iopub.status.busy": "2022-12-02T07:33:58.915423Z",
     "iopub.status.idle": "2022-12-02T07:33:59.253254Z",
     "shell.execute_reply": "2022-12-02T07:33:59.251441Z"
    },
    "papermill": {
     "duration": 0.357296,
     "end_time": "2022-12-02T07:33:59.258021",
     "exception": false,
     "start_time": "2022-12-02T07:33:58.900725",
     "status": "completed"
    },
    "tags": []
   },
   "outputs": [
    {
     "data": {
      "image/png": "[encoded data removed]",
      "text/plain": [
       "<Figure size 288x288 with 1 Axes>"
      ]
     },
     "metadata": {
      "needs_background": "light"
     },
     "output_type": "display_data"
    }
   ],
   "source": [
    "plt.matshow(df.corr())\n",
    "plt.show()"
   ]
  },
  {
   "cell_type": "code",
   "execution_count": 9,
   "id": "92224849",
   "metadata": {
    "execution": {
     "iopub.execute_input": "2022-12-02T07:33:59.293116Z",
     "iopub.status.busy": "2022-12-02T07:33:59.292370Z",
     "iopub.status.idle": "2022-12-02T07:33:59.409587Z",
     "shell.execute_reply": "2022-12-02T07:33:59.407436Z"
    },
    "papermill": {
     "duration": 0.135966,
     "end_time": "2022-12-02T07:33:59.413414",
     "exception": false,
     "start_time": "2022-12-02T07:33:59.277448",
     "status": "completed"
    },
    "tags": []
   },
   "outputs": [
    {
     "data": {
      "text/html": [
       "<style type=\"text/css\">\n",
       "#T_dbcbc_row0_col0, #T_dbcbc_row1_col1, #T_dbcbc_row2_col2, #T_dbcbc_row3_col3, #T_dbcbc_row4_col4, #T_dbcbc_row5_col5, #T_dbcbc_row6_col6 {\n",
       "  background-color: #4479bb;\n",
       "  color: #f1f1f1;\n",
       "  max-width: 80px;\n",
       "  font-size: 10pt;\n",
       "}\n",
       "#T_dbcbc_row0_col1, #T_dbcbc_row3_col2, #T_dbcbc_row5_col4 {\n",
       "  background-color: #d73d5c;\n",
       "  color: #f1f1f1;\n",
       "  max-width: 80px;\n",
       "  font-size: 10pt;\n",
       "}\n",
       "#T_dbcbc_row0_col2 {\n",
       "  background-color: #de6b82;\n",
       "  color: #f1f1f1;\n",
       "  max-width: 80px;\n",
       "  font-size: 10pt;\n",
       "}\n",
       "#T_dbcbc_row0_col3, #T_dbcbc_row1_col2, #T_dbcbc_row6_col1 {\n",
       "  background-color: #db526e;\n",
       "  color: #f1f1f1;\n",
       "  max-width: 80px;\n",
       "  font-size: 10pt;\n",
       "}\n",
       "#T_dbcbc_row0_col4, #T_dbcbc_row1_col0, #T_dbcbc_row2_col4, #T_dbcbc_row3_col4, #T_dbcbc_row4_col0, #T_dbcbc_row5_col6, #T_dbcbc_row6_col5 {\n",
       "  background-color: #d73c5b;\n",
       "  color: #f1f1f1;\n",
       "  max-width: 80px;\n",
       "  font-size: 10pt;\n",
       "}\n",
       "#T_dbcbc_row0_col5, #T_dbcbc_row1_col5 {\n",
       "  background-color: #d84462;\n",
       "  color: #f1f1f1;\n",
       "  max-width: 80px;\n",
       "  font-size: 10pt;\n",
       "}\n",
       "#T_dbcbc_row0_col6 {\n",
       "  background-color: #e8aeba;\n",
       "  color: #000000;\n",
       "  max-width: 80px;\n",
       "  font-size: 10pt;\n",
       "}\n",
       "#T_dbcbc_row1_col3 {\n",
       "  background-color: #d94865;\n",
       "  color: #f1f1f1;\n",
       "  max-width: 80px;\n",
       "  font-size: 10pt;\n",
       "}\n",
       "#T_dbcbc_row1_col4 {\n",
       "  background-color: #dc5e77;\n",
       "  color: #f1f1f1;\n",
       "  max-width: 80px;\n",
       "  font-size: 10pt;\n",
       "}\n",
       "#T_dbcbc_row1_col6 {\n",
       "  background-color: #db5771;\n",
       "  color: #f1f1f1;\n",
       "  max-width: 80px;\n",
       "  font-size: 10pt;\n",
       "}\n",
       "#T_dbcbc_row2_col0 {\n",
       "  background-color: #dd627b;\n",
       "  color: #f1f1f1;\n",
       "  max-width: 80px;\n",
       "  font-size: 10pt;\n",
       "}\n",
       "#T_dbcbc_row2_col1 {\n",
       "  background-color: #d94a67;\n",
       "  color: #f1f1f1;\n",
       "  max-width: 80px;\n",
       "  font-size: 10pt;\n",
       "}\n",
       "#T_dbcbc_row2_col3, #T_dbcbc_row3_col1, #T_dbcbc_row3_col5, #T_dbcbc_row5_col0, #T_dbcbc_row5_col1 {\n",
       "  background-color: #d83e5d;\n",
       "  color: #f1f1f1;\n",
       "  max-width: 80px;\n",
       "  font-size: 10pt;\n",
       "}\n",
       "#T_dbcbc_row2_col5 {\n",
       "  background-color: #e07389;\n",
       "  color: #f1f1f1;\n",
       "  max-width: 80px;\n",
       "  font-size: 10pt;\n",
       "}\n",
       "#T_dbcbc_row2_col6 {\n",
       "  background-color: #e28396;\n",
       "  color: #f1f1f1;\n",
       "  max-width: 80px;\n",
       "  font-size: 10pt;\n",
       "}\n",
       "#T_dbcbc_row3_col0, #T_dbcbc_row4_col3 {\n",
       "  background-color: #d94764;\n",
       "  color: #f1f1f1;\n",
       "  max-width: 80px;\n",
       "  font-size: 10pt;\n",
       "}\n",
       "#T_dbcbc_row3_col6 {\n",
       "  background-color: #da516c;\n",
       "  color: #f1f1f1;\n",
       "  max-width: 80px;\n",
       "  font-size: 10pt;\n",
       "}\n",
       "#T_dbcbc_row4_col1 {\n",
       "  background-color: #dd5f78;\n",
       "  color: #f1f1f1;\n",
       "  max-width: 80px;\n",
       "  font-size: 10pt;\n",
       "}\n",
       "#T_dbcbc_row4_col2 {\n",
       "  background-color: #d94663;\n",
       "  color: #f1f1f1;\n",
       "  max-width: 80px;\n",
       "  font-size: 10pt;\n",
       "}\n",
       "#T_dbcbc_row4_col5, #T_dbcbc_row5_col3 {\n",
       "  background-color: #d84361;\n",
       "  color: #f1f1f1;\n",
       "  max-width: 80px;\n",
       "  font-size: 10pt;\n",
       "}\n",
       "#T_dbcbc_row4_col6 {\n",
       "  background-color: #8cabd2;\n",
       "  color: #f1f1f1;\n",
       "  max-width: 80px;\n",
       "  font-size: 10pt;\n",
       "}\n",
       "#T_dbcbc_row5_col2 {\n",
       "  background-color: #e0768b;\n",
       "  color: #f1f1f1;\n",
       "  max-width: 80px;\n",
       "  font-size: 10pt;\n",
       "}\n",
       "#T_dbcbc_row6_col0 {\n",
       "  background-color: #e8aab6;\n",
       "  color: #000000;\n",
       "  max-width: 80px;\n",
       "  font-size: 10pt;\n",
       "}\n",
       "#T_dbcbc_row6_col2 {\n",
       "  background-color: #e28698;\n",
       "  color: #f1f1f1;\n",
       "  max-width: 80px;\n",
       "  font-size: 10pt;\n",
       "}\n",
       "#T_dbcbc_row6_col3 {\n",
       "  background-color: #db5570;\n",
       "  color: #f1f1f1;\n",
       "  max-width: 80px;\n",
       "  font-size: 10pt;\n",
       "}\n",
       "#T_dbcbc_row6_col4 {\n",
       "  background-color: #8dacd2;\n",
       "  color: #f1f1f1;\n",
       "  max-width: 80px;\n",
       "  font-size: 10pt;\n",
       "}\n",
       "</style>\n",
       "<table id=\"T_dbcbc_\">\n",
       "  <thead>\n",
       "    <tr>\n",
       "      <th class=\"blank level0\" >&nbsp;</th>\n",
       "      <th class=\"col_heading level0 col0\" >age</th>\n",
       "      <th class=\"col_heading level0 col1\" >sex</th>\n",
       "      <th class=\"col_heading level0 col2\" >bmi</th>\n",
       "      <th class=\"col_heading level0 col3\" >children</th>\n",
       "      <th class=\"col_heading level0 col4\" >smoker</th>\n",
       "      <th class=\"col_heading level0 col5\" >region</th>\n",
       "      <th class=\"col_heading level0 col6\" >charges</th>\n",
       "    </tr>\n",
       "  </thead>\n",
       "  <tbody>\n",
       "    <tr>\n",
       "      <th id=\"T_dbcbc_level0_row0\" class=\"row_heading level0 row0\" >age</th>\n",
       "      <td id=\"T_dbcbc_row0_col0\" class=\"data row0 col0\" >1.00</td>\n",
       "      <td id=\"T_dbcbc_row0_col1\" class=\"data row0 col1\" >-0.02</td>\n",
       "      <td id=\"T_dbcbc_row0_col2\" class=\"data row0 col2\" >0.11</td>\n",
       "      <td id=\"T_dbcbc_row0_col3\" class=\"data row0 col3\" >0.04</td>\n",
       "      <td id=\"T_dbcbc_row0_col4\" class=\"data row0 col4\" >-0.03</td>\n",
       "      <td id=\"T_dbcbc_row0_col5\" class=\"data row0 col5\" >0.00</td>\n",
       "      <td id=\"T_dbcbc_row0_col6\" class=\"data row0 col6\" >0.30</td>\n",
       "    </tr>\n",
       "    <tr>\n",
       "      <th id=\"T_dbcbc_level0_row1\" class=\"row_heading level0 row1\" >sex</th>\n",
       "      <td id=\"T_dbcbc_row1_col0\" class=\"data row1 col0\" >-0.02</td>\n",
       "      <td id=\"T_dbcbc_row1_col1\" class=\"data row1 col1\" >1.00</td>\n",
       "      <td id=\"T_dbcbc_row1_col2\" class=\"data row1 col2\" >0.05</td>\n",
       "      <td id=\"T_dbcbc_row1_col3\" class=\"data row1 col3\" >0.02</td>\n",
       "      <td id=\"T_dbcbc_row1_col4\" class=\"data row1 col4\" >0.08</td>\n",
       "      <td id=\"T_dbcbc_row1_col5\" class=\"data row1 col5\" >0.00</td>\n",
       "      <td id=\"T_dbcbc_row1_col6\" class=\"data row1 col6\" >0.06</td>\n",
       "    </tr>\n",
       "    <tr>\n",
       "      <th id=\"T_dbcbc_level0_row2\" class=\"row_heading level0 row2\" >bmi</th>\n",
       "      <td id=\"T_dbcbc_row2_col0\" class=\"data row2 col0\" >0.11</td>\n",
       "      <td id=\"T_dbcbc_row2_col1\" class=\"data row2 col1\" >0.05</td>\n",
       "      <td id=\"T_dbcbc_row2_col2\" class=\"data row2 col2\" >1.00</td>\n",
       "      <td id=\"T_dbcbc_row2_col3\" class=\"data row2 col3\" >0.01</td>\n",
       "      <td id=\"T_dbcbc_row2_col4\" class=\"data row2 col4\" >0.00</td>\n",
       "      <td id=\"T_dbcbc_row2_col5\" class=\"data row2 col5\" >0.16</td>\n",
       "      <td id=\"T_dbcbc_row2_col6\" class=\"data row2 col6\" >0.20</td>\n",
       "    </tr>\n",
       "    <tr>\n",
       "      <th id=\"T_dbcbc_level0_row3\" class=\"row_heading level0 row3\" >children</th>\n",
       "      <td id=\"T_dbcbc_row3_col0\" class=\"data row3 col0\" >0.04</td>\n",
       "      <td id=\"T_dbcbc_row3_col1\" class=\"data row3 col1\" >0.02</td>\n",
       "      <td id=\"T_dbcbc_row3_col2\" class=\"data row3 col2\" >0.01</td>\n",
       "      <td id=\"T_dbcbc_row3_col3\" class=\"data row3 col3\" >1.00</td>\n",
       "      <td id=\"T_dbcbc_row3_col4\" class=\"data row3 col4\" >0.01</td>\n",
       "      <td id=\"T_dbcbc_row3_col5\" class=\"data row3 col5\" >0.02</td>\n",
       "      <td id=\"T_dbcbc_row3_col6\" class=\"data row3 col6\" >0.07</td>\n",
       "    </tr>\n",
       "    <tr>\n",
       "      <th id=\"T_dbcbc_level0_row4\" class=\"row_heading level0 row4\" >smoker</th>\n",
       "      <td id=\"T_dbcbc_row4_col0\" class=\"data row4 col0\" >-0.03</td>\n",
       "      <td id=\"T_dbcbc_row4_col1\" class=\"data row4 col1\" >0.08</td>\n",
       "      <td id=\"T_dbcbc_row4_col2\" class=\"data row4 col2\" >0.00</td>\n",
       "      <td id=\"T_dbcbc_row4_col3\" class=\"data row4 col3\" >0.01</td>\n",
       "      <td id=\"T_dbcbc_row4_col4\" class=\"data row4 col4\" >1.00</td>\n",
       "      <td id=\"T_dbcbc_row4_col5\" class=\"data row4 col5\" >-0.00</td>\n",
       "      <td id=\"T_dbcbc_row4_col6\" class=\"data row4 col6\" >0.79</td>\n",
       "    </tr>\n",
       "    <tr>\n",
       "      <th id=\"T_dbcbc_level0_row5\" class=\"row_heading level0 row5\" >region</th>\n",
       "      <td id=\"T_dbcbc_row5_col0\" class=\"data row5 col0\" >0.00</td>\n",
       "      <td id=\"T_dbcbc_row5_col1\" class=\"data row5 col1\" >0.00</td>\n",
       "      <td id=\"T_dbcbc_row5_col2\" class=\"data row5 col2\" >0.16</td>\n",
       "      <td id=\"T_dbcbc_row5_col3\" class=\"data row5 col3\" >0.02</td>\n",
       "      <td id=\"T_dbcbc_row5_col4\" class=\"data row5 col4\" >-0.00</td>\n",
       "      <td id=\"T_dbcbc_row5_col5\" class=\"data row5 col5\" >1.00</td>\n",
       "      <td id=\"T_dbcbc_row5_col6\" class=\"data row5 col6\" >-0.01</td>\n",
       "    </tr>\n",
       "    <tr>\n",
       "      <th id=\"T_dbcbc_level0_row6\" class=\"row_heading level0 row6\" >charges</th>\n",
       "      <td id=\"T_dbcbc_row6_col0\" class=\"data row6 col0\" >0.30</td>\n",
       "      <td id=\"T_dbcbc_row6_col1\" class=\"data row6 col1\" >0.06</td>\n",
       "      <td id=\"T_dbcbc_row6_col2\" class=\"data row6 col2\" >0.20</td>\n",
       "      <td id=\"T_dbcbc_row6_col3\" class=\"data row6 col3\" >0.07</td>\n",
       "      <td id=\"T_dbcbc_row6_col4\" class=\"data row6 col4\" >0.79</td>\n",
       "      <td id=\"T_dbcbc_row6_col5\" class=\"data row6 col5\" >-0.01</td>\n",
       "      <td id=\"T_dbcbc_row6_col6\" class=\"data row6 col6\" >1.00</td>\n",
       "    </tr>\n",
       "  </tbody>\n",
       "</table>\n"
      ],
      "text/plain": [
       "<pandas.io.formats.style.Styler at 0x7f4b277637d0>"
      ]
     },
     "execution_count": 9,
     "metadata": {},
     "output_type": "execute_result"
    }
   ],
   "source": [
    "corr = df.corr()\n",
    "cmap = cmap=sns.diverging_palette(5, 250, as_cmap=True)\n",
    "corr.style.background_gradient(cmap, axis=1)\\\n",
    "    .set_properties(**{'max-width': '80px', 'font-size': '10pt'})\\\n",
    "    .set_precision(2)"
   ]
  },
  {
   "cell_type": "code",
   "execution_count": 10,
   "id": "b558d10d",
   "metadata": {
    "execution": {
     "iopub.execute_input": "2022-12-02T07:33:59.442920Z",
     "iopub.status.busy": "2022-12-02T07:33:59.442370Z",
     "iopub.status.idle": "2022-12-02T07:33:59.644218Z",
     "shell.execute_reply": "2022-12-02T07:33:59.642118Z"
    },
    "papermill": {
     "duration": 0.221826,
     "end_time": "2022-12-02T07:33:59.649250",
     "exception": false,
     "start_time": "2022-12-02T07:33:59.427424",
     "status": "completed"
    },
    "tags": []
   },
   "outputs": [
    {
     "data": {
      "text/html": [
       "<div>\n",
       "<style scoped>\n",
       "    .dataframe tbody tr th:only-of-type {\n",
       "        vertical-align: middle;\n",
       "    }\n",
       "\n",
       "    .dataframe tbody tr th {\n",
       "        vertical-align: top;\n",
       "    }\n",
       "\n",
       "    .dataframe thead th {\n",
       "        text-align: right;\n",
       "    }\n",
       "</style>\n",
       "<table border=\"1\" class=\"dataframe\">\n",
       "  <thead>\n",
       "    <tr style=\"text-align: right;\">\n",
       "      <th></th>\n",
       "      <th>VIF</th>\n",
       "      <th>variable</th>\n",
       "    </tr>\n",
       "  </thead>\n",
       "  <tbody>\n",
       "    <tr>\n",
       "      <th>0</th>\n",
       "      <td>37.063405</td>\n",
       "      <td>Intercept</td>\n",
       "    </tr>\n",
       "    <tr>\n",
       "      <th>1</th>\n",
       "      <td>1.372866</td>\n",
       "      <td>age</td>\n",
       "    </tr>\n",
       "    <tr>\n",
       "      <th>2</th>\n",
       "      <td>1.153126</td>\n",
       "      <td>bmi</td>\n",
       "    </tr>\n",
       "    <tr>\n",
       "      <th>3</th>\n",
       "      <td>1.009006</td>\n",
       "      <td>sex</td>\n",
       "    </tr>\n",
       "    <tr>\n",
       "      <th>4</th>\n",
       "      <td>1.011617</td>\n",
       "      <td>children</td>\n",
       "    </tr>\n",
       "    <tr>\n",
       "      <th>5</th>\n",
       "      <td>3.536099</td>\n",
       "      <td>smoker</td>\n",
       "    </tr>\n",
       "    <tr>\n",
       "      <th>6</th>\n",
       "      <td>1.030143</td>\n",
       "      <td>region</td>\n",
       "    </tr>\n",
       "    <tr>\n",
       "      <th>7</th>\n",
       "      <td>4.011830</td>\n",
       "      <td>charges</td>\n",
       "    </tr>\n",
       "  </tbody>\n",
       "</table>\n",
       "</div>"
      ],
      "text/plain": [
       "         VIF   variable\n",
       "0  37.063405  Intercept\n",
       "1   1.372866        age\n",
       "2   1.153126        bmi\n",
       "3   1.009006        sex\n",
       "4   1.011617   children\n",
       "5   3.536099     smoker\n",
       "6   1.030143     region\n",
       "7   4.011830    charges"
      ]
     },
     "execution_count": 10,
     "metadata": {},
     "output_type": "execute_result"
    }
   ],
   "source": [
    "from patsy import dmatrices\n",
    "from statsmodels.stats.outliers_influence import variance_inflation_factor\n",
    "\n",
    "\n",
    "y, X = dmatrices('charges ~ age+bmi+sex+children+smoker+region+charges', data=df, return_type='dataframe')\n",
    "\n",
    "vif = pd.DataFrame()\n",
    "vif['VIF'] = [variance_inflation_factor(X.values, i) for i in range(X.shape[1])]\n",
    "vif['variable'] = X.columns\n",
    "\n",
    "\n",
    "vif"
   ]
  },
  {
   "cell_type": "markdown",
   "id": "5347e08d",
   "metadata": {
    "execution": {
     "iopub.execute_input": "2022-11-30T05:01:09.531935Z",
     "iopub.status.busy": "2022-11-30T05:01:09.530908Z",
     "iopub.status.idle": "2022-11-30T05:01:09.550155Z",
     "shell.execute_reply": "2022-11-30T05:01:09.549376Z",
     "shell.execute_reply.started": "2022-11-30T05:01:09.531895Z"
    },
    "papermill": {
     "duration": 0.034057,
     "end_time": "2022-12-02T07:33:59.714729",
     "exception": false,
     "start_time": "2022-12-02T07:33:59.680672",
     "status": "completed"
    },
    "tags": []
   },
   "source": [
    "## Change\n",
    "After confirming the theory i decided to change it up, making it a Classification problem instead, and trying to see if i could predict if the person was a smoker or not instead of predicting charges.\n"
   ]
  },
  {
   "cell_type": "code",
   "execution_count": 11,
   "id": "a8b9f266",
   "metadata": {
    "execution": {
     "iopub.execute_input": "2022-12-02T07:33:59.759444Z",
     "iopub.status.busy": "2022-12-02T07:33:59.758861Z",
     "iopub.status.idle": "2022-12-02T07:33:59.770420Z",
     "shell.execute_reply": "2022-12-02T07:33:59.769054Z"
    },
    "papermill": {
     "duration": 0.03089,
     "end_time": "2022-12-02T07:33:59.773285",
     "exception": false,
     "start_time": "2022-12-02T07:33:59.742395",
     "status": "completed"
    },
    "tags": []
   },
   "outputs": [],
   "source": [
    "x_train, x_test, y_train, y_test = train_test_split(df.drop('smoker', axis = 1),\n",
    "                                                   df['smoker'],\n",
    "                                                   test_size = 0.25,\n",
    "                                                   random_state=42)"
   ]
  },
  {
   "cell_type": "markdown",
   "id": "52a682da",
   "metadata": {
    "papermill": {
     "duration": 0.012755,
     "end_time": "2022-12-02T07:33:59.798745",
     "exception": false,
     "start_time": "2022-12-02T07:33:59.785990",
     "status": "completed"
    },
    "tags": []
   },
   "source": [
    "## Models\n",
    "Trying out a couple different models to see what performs best.\n"
   ]
  },
  {
   "cell_type": "code",
   "execution_count": 12,
   "id": "ced10e78",
   "metadata": {
    "execution": {
     "iopub.execute_input": "2022-12-02T07:33:59.828295Z",
     "iopub.status.busy": "2022-12-02T07:33:59.827781Z",
     "iopub.status.idle": "2022-12-02T07:33:59.866369Z",
     "shell.execute_reply": "2022-12-02T07:33:59.864274Z"
    },
    "papermill": {
     "duration": 0.059317,
     "end_time": "2022-12-02T07:33:59.870863",
     "exception": false,
     "start_time": "2022-12-02T07:33:59.811546",
     "status": "completed"
    },
    "tags": []
   },
   "outputs": [],
   "source": [
    "pipe1 = Pipeline([\n",
    "    ('scaler', StandardScaler()),\n",
    "    ('model', SVC(random_state=42))\n",
    "])\n",
    "\n",
    "model_svm = pipe1.fit(x_train, y_train)\n",
    "\n",
    "y_pred_svm = model_svm.predict(x_test)"
   ]
  },
  {
   "cell_type": "code",
   "execution_count": 13,
   "id": "22c9dc95",
   "metadata": {
    "execution": {
     "iopub.execute_input": "2022-12-02T07:33:59.900862Z",
     "iopub.status.busy": "2022-12-02T07:33:59.900111Z",
     "iopub.status.idle": "2022-12-02T07:33:59.929599Z",
     "shell.execute_reply": "2022-12-02T07:33:59.928082Z"
    },
    "papermill": {
     "duration": 0.04832,
     "end_time": "2022-12-02T07:33:59.932545",
     "exception": false,
     "start_time": "2022-12-02T07:33:59.884225",
     "status": "completed"
    },
    "tags": []
   },
   "outputs": [],
   "source": [
    "pipe2 = Pipeline([\n",
    "    ('scaler', StandardScaler()),\n",
    "    ('model', KNeighborsClassifier())\n",
    "])\n",
    "\n",
    "model_kn = pipe2.fit(x_train, y_train)\n",
    "\n",
    "y_pred_kn = model_kn.predict(x_test)"
   ]
  },
  {
   "cell_type": "code",
   "execution_count": 14,
   "id": "adbf175a",
   "metadata": {
    "execution": {
     "iopub.execute_input": "2022-12-02T07:33:59.963249Z",
     "iopub.status.busy": "2022-12-02T07:33:59.961729Z",
     "iopub.status.idle": "2022-12-02T07:33:59.990664Z",
     "shell.execute_reply": "2022-12-02T07:33:59.989496Z"
    },
    "papermill": {
     "duration": 0.04765,
     "end_time": "2022-12-02T07:33:59.993347",
     "exception": false,
     "start_time": "2022-12-02T07:33:59.945697",
     "status": "completed"
    },
    "tags": []
   },
   "outputs": [],
   "source": [
    "pipe3 = Pipeline([\n",
    "    ('scaler', StandardScaler()),\n",
    "    ('model', LogisticRegression())\n",
    "])\n",
    "\n",
    "model_lr = pipe3.fit(x_train, y_train)\n",
    "\n",
    "y_pred_lr = model_lr.predict(x_test)"
   ]
  },
  {
   "cell_type": "code",
   "execution_count": 15,
   "id": "a2dc532a",
   "metadata": {
    "execution": {
     "iopub.execute_input": "2022-12-02T07:34:00.021817Z",
     "iopub.status.busy": "2022-12-02T07:34:00.021243Z",
     "iopub.status.idle": "2022-12-02T07:34:00.275480Z",
     "shell.execute_reply": "2022-12-02T07:34:00.273911Z"
    },
    "papermill": {
     "duration": 0.272912,
     "end_time": "2022-12-02T07:34:00.278755",
     "exception": false,
     "start_time": "2022-12-02T07:34:00.005843",
     "status": "completed"
    },
    "tags": []
   },
   "outputs": [],
   "source": [
    "model_rf = RandomForestClassifier(random_state=42).fit(x_train, y_train)\n",
    "\n",
    "y_pred_rf = model_rf.predict(x_test)"
   ]
  },
  {
   "cell_type": "code",
   "execution_count": 16,
   "id": "7ea2291b",
   "metadata": {
    "execution": {
     "iopub.execute_input": "2022-12-02T07:34:00.308222Z",
     "iopub.status.busy": "2022-12-02T07:34:00.307362Z",
     "iopub.status.idle": "2022-12-02T07:34:00.501555Z",
     "shell.execute_reply": "2022-12-02T07:34:00.499638Z"
    },
    "papermill": {
     "duration": 0.212961,
     "end_time": "2022-12-02T07:34:00.504667",
     "exception": false,
     "start_time": "2022-12-02T07:34:00.291706",
     "status": "completed"
    },
    "tags": []
   },
   "outputs": [],
   "source": [
    "model_gb = GradientBoostingClassifier(random_state=42).fit(x_train, y_train)\n",
    "\n",
    "y_pred_gb = model_gb.predict(x_test)"
   ]
  },
  {
   "cell_type": "code",
   "execution_count": 17,
   "id": "1256fb30",
   "metadata": {
    "execution": {
     "iopub.execute_input": "2022-12-02T07:34:00.532621Z",
     "iopub.status.busy": "2022-12-02T07:34:00.532106Z",
     "iopub.status.idle": "2022-12-02T07:34:00.546739Z",
     "shell.execute_reply": "2022-12-02T07:34:00.545349Z"
    },
    "papermill": {
     "duration": 0.032369,
     "end_time": "2022-12-02T07:34:00.549609",
     "exception": false,
     "start_time": "2022-12-02T07:34:00.517240",
     "status": "completed"
    },
    "tags": []
   },
   "outputs": [],
   "source": [
    "model_dt = DecisionTreeClassifier(random_state=42).fit(x_train, y_train)\n",
    "\n",
    "y_pred_dt = model_dt.predict(x_test)"
   ]
  },
  {
   "cell_type": "code",
   "execution_count": 18,
   "id": "686a3bfb",
   "metadata": {
    "execution": {
     "iopub.execute_input": "2022-12-02T07:34:00.576402Z",
     "iopub.status.busy": "2022-12-02T07:34:00.575917Z",
     "iopub.status.idle": "2022-12-02T07:34:00.592055Z",
     "shell.execute_reply": "2022-12-02T07:34:00.589916Z"
    },
    "papermill": {
     "duration": 0.03321,
     "end_time": "2022-12-02T07:34:00.595385",
     "exception": false,
     "start_time": "2022-12-02T07:34:00.562175",
     "status": "completed"
    },
    "tags": []
   },
   "outputs": [
    {
     "name": "stdout",
     "output_type": "stream",
     "text": [
      "Accuracy score SVM: 0.9642\n",
      "Accuracy score KN:  0.9493\n",
      "Accuracy score LR:  0.9612\n",
      "Accuracy score RF:  0.9701\n",
      "Accuracy score GB:  0.9701\n",
      "Accuracy score DT:  0.9612\n"
     ]
    }
   ],
   "source": [
    "print('Accuracy score SVM: {:.4f}' .format(accuracy_score(y_test, y_pred_svm)))\n",
    "print('Accuracy score KN:  {:.4f}' .format(accuracy_score(y_test, y_pred_kn)))\n",
    "print('Accuracy score LR:  {:.4f}' .format(accuracy_score(y_test, y_pred_lr)))\n",
    "print('Accuracy score RF:  {:.4f}' .format(accuracy_score(y_test, y_pred_rf)))\n",
    "print('Accuracy score GB:  {:.4f}' .format(accuracy_score(y_test, y_pred_gb)))\n",
    "print('Accuracy score DT:  {:.4f}' .format(accuracy_score(y_test, y_pred_dt)))"
   ]
  },
  {
   "cell_type": "code",
   "execution_count": 19,
   "id": "a253862c",
   "metadata": {
    "execution": {
     "iopub.execute_input": "2022-12-02T07:34:00.622569Z",
     "iopub.status.busy": "2022-12-02T07:34:00.622160Z",
     "iopub.status.idle": "2022-12-02T07:34:00.903442Z",
     "shell.execute_reply": "2022-12-02T07:34:00.902047Z"
    },
    "papermill": {
     "duration": 0.298983,
     "end_time": "2022-12-02T07:34:00.906834",
     "exception": false,
     "start_time": "2022-12-02T07:34:00.607851",
     "status": "completed"
    },
    "tags": []
   },
   "outputs": [
    {
     "data": {
      "image/png": "[encoded data removed]",
      "text/plain": [
       "<Figure size 432x288 with 1 Axes>"
      ]
     },
     "metadata": {
      "needs_background": "light"
     },
     "output_type": "display_data"
    }
   ],
   "source": [
    "feat_importances = pd.Series(model_rf.feature_importances_, index = x_train.columns).sort_values(ascending = True)\n",
    "feat_importances.plot(kind = 'barh')\n",
    "plt.title('Feature Importances ')\n",
    "plt.show()"
   ]
  },
  {
   "cell_type": "markdown",
   "id": "f28ae520",
   "metadata": {
    "papermill": {
     "duration": 0.012461,
     "end_time": "2022-12-02T07:34:00.932489",
     "exception": false,
     "start_time": "2022-12-02T07:34:00.920028",
     "status": "completed"
    },
    "tags": []
   },
   "source": [
    "## Hyperparameter tuning\n",
    "The best performing models were RandomForest and GradientBoosting, so the goal now is to try to make them better with the use of Optuna"
   ]
  },
  {
   "cell_type": "markdown",
   "id": "7853fe32",
   "metadata": {
    "papermill": {
     "duration": 0.013844,
     "end_time": "2022-12-02T07:34:00.962166",
     "exception": false,
     "start_time": "2022-12-02T07:34:00.948322",
     "status": "completed"
    },
    "tags": []
   },
   "source": [
    "### RF Hyperparameter tuning"
   ]
  },
  {
   "cell_type": "code",
   "execution_count": 20,
   "id": "08aefb64",
   "metadata": {
    "execution": {
     "iopub.execute_input": "2022-12-02T07:34:00.993850Z",
     "iopub.status.busy": "2022-12-02T07:34:00.993322Z",
     "iopub.status.idle": "2022-12-02T07:34:01.004769Z",
     "shell.execute_reply": "2022-12-02T07:34:01.003018Z"
    },
    "papermill": {
     "duration": 0.032594,
     "end_time": "2022-12-02T07:34:01.008174",
     "exception": false,
     "start_time": "2022-12-02T07:34:00.975580",
     "status": "completed"
    },
    "tags": []
   },
   "outputs": [],
   "source": [
    "rfc = RandomForestClassifier(random_state=42)\n",
    "\n",
    "n_estimators = [int(x) for x in np.linspace(start = 200, stop = 2000, num = 10)]\n",
    "max_features = ['auto', 'sqrt', 'log2']\n",
    "max_depth = [int(x) for x in np.linspace(10, 110, num = 11)]\n",
    "max_depth.append(None)\n",
    "min_samples_split = [2, 5, 10]\n",
    "min_samples_leaf = [1, 2, 4]\n",
    "bootstrap = [True, False]\n",
    "\n",
    "params_grid = {'n_estimators': n_estimators,\n",
    "               'max_features': max_features,\n",
    "               'max_depth': max_depth,\n",
    "               'min_samples_split': min_samples_split,\n",
    "               'min_samples_leaf': min_samples_leaf,\n",
    "               'bootstrap': bootstrap}"
   ]
  },
  {
   "cell_type": "code",
   "execution_count": 21,
   "id": "19d50aeb",
   "metadata": {
    "execution": {
     "iopub.execute_input": "2022-12-02T07:34:01.039353Z",
     "iopub.status.busy": "2022-12-02T07:34:01.037800Z",
     "iopub.status.idle": "2022-12-02T07:50:52.545521Z",
     "shell.execute_reply": "2022-12-02T07:50:52.543697Z"
    },
    "papermill": {
     "duration": 1011.537979,
     "end_time": "2022-12-02T07:50:52.561136",
     "exception": false,
     "start_time": "2022-12-02T07:34:01.023157",
     "status": "completed"
    },
    "tags": []
   },
   "outputs": [
    {
     "name": "stdout",
     "output_type": "stream",
     "text": [
      "Fitting 5 folds for each of 100 candidates, totalling 500 fits\n"
     ]
    },
    {
     "data": {
      "text/plain": [
       "RandomizedSearchCV(cv=5, estimator=RandomForestClassifier(random_state=42),\n",
       "                   n_iter=100,\n",
       "                   param_distributions={'bootstrap': [True, False],\n",
       "                                        'max_depth': [10, 20, 30, 40, 50, 60,\n",
       "                                                      70, 80, 90, 100, 110,\n",
       "                                                      None],\n",
       "                                        'max_features': ['auto', 'sqrt',\n",
       "                                                         'log2'],\n",
       "                                        'min_samples_leaf': [1, 2, 4],\n",
       "                                        'min_samples_split': [2, 5, 10],\n",
       "                                        'n_estimators': [200, 400, 600, 800,\n",
       "                                                         1000, 1200, 1400, 1600,\n",
       "                                                         1800, 2000]},\n",
       "                   random_state=42, verbose=1)"
      ]
     },
     "execution_count": 21,
     "metadata": {},
     "output_type": "execute_result"
    }
   ],
   "source": [
    "random_search = RandomizedSearchCV(estimator = rfc,  param_distributions = params_grid, verbose = 1, cv = 5, n_iter = 100, random_state = 42)\n",
    "\n",
    "random_search.fit(x_train, y_train)"
   ]
  },
  {
   "cell_type": "code",
   "execution_count": 22,
   "id": "4247b963",
   "metadata": {
    "execution": {
     "iopub.execute_input": "2022-12-02T07:50:52.588182Z",
     "iopub.status.busy": "2022-12-02T07:50:52.587714Z",
     "iopub.status.idle": "2022-12-02T07:50:52.594539Z",
     "shell.execute_reply": "2022-12-02T07:50:52.592620Z"
    },
    "papermill": {
     "duration": 0.025113,
     "end_time": "2022-12-02T07:50:52.598412",
     "exception": false,
     "start_time": "2022-12-02T07:50:52.573299",
     "status": "completed"
    },
    "tags": []
   },
   "outputs": [
    {
     "name": "stdout",
     "output_type": "stream",
     "text": [
      "best: {'n_estimators': 200, 'min_samples_split': 5, 'min_samples_leaf': 1, 'max_features': 'log2', 'max_depth': 70, 'bootstrap': False}\n"
     ]
    }
   ],
   "source": [
    "print(f'best: {random_search.best_params_}')"
   ]
  },
  {
   "cell_type": "code",
   "execution_count": 23,
   "id": "45a41f3d",
   "metadata": {
    "execution": {
     "iopub.execute_input": "2022-12-02T07:50:52.628763Z",
     "iopub.status.busy": "2022-12-02T07:50:52.628295Z",
     "iopub.status.idle": "2022-12-02T07:50:53.049703Z",
     "shell.execute_reply": "2022-12-02T07:50:53.048694Z"
    },
    "papermill": {
     "duration": 0.440657,
     "end_time": "2022-12-02T07:50:53.052635",
     "exception": false,
     "start_time": "2022-12-02T07:50:52.611978",
     "status": "completed"
    },
    "tags": []
   },
   "outputs": [],
   "source": [
    "rf_rs = RandomForestClassifier(n_estimators = 200, min_samples_split = 5, min_samples_leaf = 1, max_features = 'log2', max_depth = 70, bootstrap = False, random_state = 42)\n",
    "\n",
    "model_rf_rs = rf_rs.fit(x_train, y_train)\n",
    "\n",
    "y_pred_rf_rs = model_rf_rs.predict(x_test)"
   ]
  },
  {
   "cell_type": "markdown",
   "id": "12a12d8b",
   "metadata": {
    "papermill": {
     "duration": 0.013602,
     "end_time": "2022-12-02T07:50:53.080812",
     "exception": false,
     "start_time": "2022-12-02T07:50:53.067210",
     "status": "completed"
    },
    "tags": []
   },
   "source": [
    "### GB Hyperparameter tuning"
   ]
  },
  {
   "cell_type": "code",
   "execution_count": 24,
   "id": "322b057a",
   "metadata": {
    "execution": {
     "iopub.execute_input": "2022-12-02T07:50:53.112395Z",
     "iopub.status.busy": "2022-12-02T07:50:53.110917Z",
     "iopub.status.idle": "2022-12-02T07:50:53.118602Z",
     "shell.execute_reply": "2022-12-02T07:50:53.117100Z"
    },
    "papermill": {
     "duration": 0.027315,
     "end_time": "2022-12-02T07:50:53.122421",
     "exception": false,
     "start_time": "2022-12-02T07:50:53.095106",
     "status": "completed"
    },
    "tags": []
   },
   "outputs": [],
   "source": [
    "gbc = GradientBoostingClassifier(random_state = 42)\n",
    "parameters = {\n",
    "    \"n_estimators\":[5,50,250,500],\n",
    "    \"max_depth\":[1,3,5,7,9],\n",
    "    \"learning_rate\":[0.01,0.1,1,10,100]\n",
    "}"
   ]
  },
  {
   "cell_type": "code",
   "execution_count": 25,
   "id": "e9345316",
   "metadata": {
    "execution": {
     "iopub.execute_input": "2022-12-02T07:50:53.153737Z",
     "iopub.status.busy": "2022-12-02T07:50:53.152587Z",
     "iopub.status.idle": "2022-12-02T07:53:14.047812Z",
     "shell.execute_reply": "2022-12-02T07:53:14.045914Z"
    },
    "papermill": {
     "duration": 140.928284,
     "end_time": "2022-12-02T07:53:14.065892",
     "exception": false,
     "start_time": "2022-12-02T07:50:53.137608",
     "status": "completed"
    },
    "tags": []
   },
   "outputs": [
    {
     "name": "stdout",
     "output_type": "stream",
     "text": [
      "Fitting 5 folds for each of 100 candidates, totalling 500 fits\n"
     ]
    },
    {
     "data": {
      "text/plain": [
       "RandomizedSearchCV(cv=5, estimator=GradientBoostingClassifier(random_state=42),\n",
       "                   n_iter=100,\n",
       "                   param_distributions={'learning_rate': [0.01, 0.1, 1, 10,\n",
       "                                                          100],\n",
       "                                        'max_depth': [1, 3, 5, 7, 9],\n",
       "                                        'n_estimators': [5, 50, 250, 500]},\n",
       "                   random_state=42, verbose=1)"
      ]
     },
     "execution_count": 25,
     "metadata": {},
     "output_type": "execute_result"
    }
   ],
   "source": [
    "random_search_gb = RandomizedSearchCV(estimator = gbc,  param_distributions = parameters, verbose = 1, cv = 5, n_iter = 100, random_state = 42)\n",
    "\n",
    "random_search_gb.fit(x_train, y_train)"
   ]
  },
  {
   "cell_type": "code",
   "execution_count": 26,
   "id": "8fa1ed82",
   "metadata": {
    "execution": {
     "iopub.execute_input": "2022-12-02T07:53:14.096286Z",
     "iopub.status.busy": "2022-12-02T07:53:14.095188Z",
     "iopub.status.idle": "2022-12-02T07:53:14.103323Z",
     "shell.execute_reply": "2022-12-02T07:53:14.101516Z"
    },
    "papermill": {
     "duration": 0.027628,
     "end_time": "2022-12-02T07:53:14.107152",
     "exception": false,
     "start_time": "2022-12-02T07:53:14.079524",
     "status": "completed"
    },
    "tags": []
   },
   "outputs": [
    {
     "name": "stdout",
     "output_type": "stream",
     "text": [
      "best: {'n_estimators': 250, 'max_depth': 5, 'learning_rate': 0.01}\n"
     ]
    }
   ],
   "source": [
    "print(f'best: {random_search_gb.best_params_}')"
   ]
  },
  {
   "cell_type": "code",
   "execution_count": 27,
   "id": "216fcd04",
   "metadata": {
    "execution": {
     "iopub.execute_input": "2022-12-02T07:53:14.136794Z",
     "iopub.status.busy": "2022-12-02T07:53:14.136322Z",
     "iopub.status.idle": "2022-12-02T07:53:14.763451Z",
     "shell.execute_reply": "2022-12-02T07:53:14.762239Z"
    },
    "papermill": {
     "duration": 0.64516,
     "end_time": "2022-12-02T07:53:14.766388",
     "exception": false,
     "start_time": "2022-12-02T07:53:14.121228",
     "status": "completed"
    },
    "tags": []
   },
   "outputs": [],
   "source": [
    "gb_rs = GradientBoostingClassifier(n_estimators = 250, max_depth = 5, learning_rate = 0.01)\n",
    "\n",
    "model_gb_rs = gb_rs.fit(x_train, y_train)\n",
    "\n",
    "y_pred_gb_rs = model_gb_rs.predict(x_test)"
   ]
  },
  {
   "cell_type": "markdown",
   "id": "44ddbac9",
   "metadata": {
    "papermill": {
     "duration": 0.013774,
     "end_time": "2022-12-02T07:53:14.794901",
     "exception": false,
     "start_time": "2022-12-02T07:53:14.781127",
     "status": "completed"
    },
    "tags": []
   },
   "source": [
    "## Results from Hyperparameter tuning\n",
    "Best end result was RandomForest with the help of RandomizedSearchCV for better parameters.\n"
   ]
  },
  {
   "cell_type": "code",
   "execution_count": 28,
   "id": "4f4204f9",
   "metadata": {
    "execution": {
     "iopub.execute_input": "2022-12-02T07:53:14.826021Z",
     "iopub.status.busy": "2022-12-02T07:53:14.825600Z",
     "iopub.status.idle": "2022-12-02T07:53:14.836223Z",
     "shell.execute_reply": "2022-12-02T07:53:14.834438Z"
    },
    "papermill": {
     "duration": 0.02926,
     "end_time": "2022-12-02T07:53:14.838743",
     "exception": false,
     "start_time": "2022-12-02T07:53:14.809483",
     "status": "completed"
    },
    "tags": []
   },
   "outputs": [
    {
     "name": "stdout",
     "output_type": "stream",
     "text": [
      "Accuracy Score RF:                   0.9701\n",
      "Accuracy Score RF + RandomSearchCV:  0.9791\n",
      "Accuracy score GB:                   0.9701\n",
      "Accuracy score GB + RandomSearchCV:  0.9701\n"
     ]
    }
   ],
   "source": [
    "print('Accuracy Score RF:                   {:.4f}' .format(accuracy_score(y_test, y_pred_rf)))\n",
    "print('Accuracy Score RF + RandomSearchCV:  {:.4f}' .format(accuracy_score(y_test, y_pred_rf_rs)))\n",
    "print('Accuracy score GB:                   {:.4f}' .format(accuracy_score(y_test, y_pred_gb)))\n",
    "print('Accuracy score GB + RandomSearchCV:  {:.4f}' .format(accuracy_score(y_test, y_pred_gb_rs)))"
   ]
  },
  {
   "cell_type": "markdown",
   "id": "c0975590",
   "metadata": {
    "papermill": {
     "duration": 0.012811,
     "end_time": "2022-12-02T07:53:14.864569",
     "exception": false,
     "start_time": "2022-12-02T07:53:14.851758",
     "status": "completed"
    },
    "tags": []
   },
   "source": [
    "## Evaluation\n",
    "Using our best model, Hypertuned RandomForestClassifier.\n",
    "\n"
   ]
  },
  {
   "cell_type": "code",
   "execution_count": 29,
   "id": "7f3e80cf",
   "metadata": {
    "execution": {
     "iopub.execute_input": "2022-12-02T07:53:14.893951Z",
     "iopub.status.busy": "2022-12-02T07:53:14.893496Z",
     "iopub.status.idle": "2022-12-02T07:53:14.905183Z",
     "shell.execute_reply": "2022-12-02T07:53:14.903002Z"
    },
    "papermill": {
     "duration": 0.029495,
     "end_time": "2022-12-02T07:53:14.908015",
     "exception": false,
     "start_time": "2022-12-02T07:53:14.878520",
     "status": "completed"
    },
    "tags": []
   },
   "outputs": [
    {
     "name": "stdout",
     "output_type": "stream",
     "text": [
      "              precision    recall  f1-score   support\n",
      "\n",
      "           0       0.99      0.99      0.99       267\n",
      "           1       0.94      0.96      0.95        68\n",
      "\n",
      "    accuracy                           0.98       335\n",
      "   macro avg       0.97      0.97      0.97       335\n",
      "weighted avg       0.98      0.98      0.98       335\n",
      "\n"
     ]
    }
   ],
   "source": [
    "print(classification_report(y_test, y_pred_rf_rs))"
   ]
  },
  {
   "cell_type": "code",
   "execution_count": 30,
   "id": "1e3dab13",
   "metadata": {
    "execution": {
     "iopub.execute_input": "2022-12-02T07:53:14.937382Z",
     "iopub.status.busy": "2022-12-02T07:53:14.936923Z",
     "iopub.status.idle": "2022-12-02T07:53:15.245649Z",
     "shell.execute_reply": "2022-12-02T07:53:15.244270Z"
    },
    "papermill": {
     "duration": 0.327345,
     "end_time": "2022-12-02T07:53:15.248581",
     "exception": false,
     "start_time": "2022-12-02T07:53:14.921236",
     "status": "completed"
    },
    "tags": []
   },
   "outputs": [
    {
     "data": {
      "text/plain": [
       "<sklearn.metrics._plot.roc_curve.RocCurveDisplay at 0x7f4b28a41050>"
      ]
     },
     "execution_count": 30,
     "metadata": {},
     "output_type": "execute_result"
    },
    {
     "data": {
      "image/png": "[encoded data removed]",
      "text/plain": [
       "<Figure size 432x288 with 1 Axes>"
      ]
     },
     "metadata": {
      "needs_background": "light"
     },
     "output_type": "display_data"
    }
   ],
   "source": [
    "plot_roc_curve(model_rf_rs, x_test, y_test)"
   ]
  },
  {
   "cell_type": "code",
   "execution_count": 31,
   "id": "0bdb303a",
   "metadata": {
    "execution": {
     "iopub.execute_input": "2022-12-02T07:53:15.279428Z",
     "iopub.status.busy": "2022-12-02T07:53:15.278983Z",
     "iopub.status.idle": "2022-12-02T07:53:15.561247Z",
     "shell.execute_reply": "2022-12-02T07:53:15.559521Z"
    },
    "papermill": {
     "duration": 0.301908,
     "end_time": "2022-12-02T07:53:15.564486",
     "exception": false,
     "start_time": "2022-12-02T07:53:15.262578",
     "status": "completed"
    },
    "tags": []
   },
   "outputs": [
    {
     "data": {
      "image/png": "[encoded data removed]",
      "text/plain": [
       "<Figure size 432x288 with 2 Axes>"
      ]
     },
     "metadata": {
      "needs_background": "light"
     },
     "output_type": "display_data"
    }
   ],
   "source": [
    "predictions = model_rf_rs.predict(x_test)\n",
    "cm = confusion_matrix(y_test, y_pred_rf_rs, labels = model_rf_rs.classes_)\n",
    "disp = ConfusionMatrixDisplay(confusion_matrix = cm, display_labels = model_rf_rs.classes_)\n",
    "disp.plot()\n",
    "plt.show()"
   ]
  },
  {
   "cell_type": "markdown",
   "id": "b96487eb",
   "metadata": {
    "papermill": {
     "duration": 0.013278,
     "end_time": "2022-12-02T07:53:15.592205",
     "exception": false,
     "start_time": "2022-12-02T07:53:15.578927",
     "status": "completed"
    },
    "tags": []
   },
   "source": []
  },
  {
   "cell_type": "code",
   "execution_count": null,
   "id": "4726165f",
   "metadata": {},
   "outputs": [],
   "source": []
  }
 ],
 "metadata": {
  "kernelspec": {
   "display_name": "Python 3",
   "language": "python",
   "name": "python3"
  },
  "language_info": {
   "codemirror_mode": {
    "name": "ipython",
    "version": 3
   },
   "file_extension": ".py",
   "mimetype": "text/x-python",
   "name": "python",
   "nbconvert_exporter": "python",
   "pygments_lexer": "ipython3",
   "version": "3.8.8"
  },
  "papermill": {
   "default_parameters": {},
   "duration": 1221.615118,
   "end_time": "2022-12-02T07:53:17.236614",
   "environment_variables": {},
   "exception": null,
   "input_path": "__notebook__.ipynb",
   "output_path": "__notebook__.ipynb",
   "parameters": {},
   "start_time": "2022-12-02T07:32:55.621496",
   "version": "2.3.4"
  }
 },
 "nbformat": 4,
 "nbformat_minor": 5
}
