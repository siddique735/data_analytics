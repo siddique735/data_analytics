{
 "cells": [
  {
   "cell_type": "code",
   "execution_count": 1,
   "id": "1d855ee6",
   "metadata": {
    "_cell_guid": "b1076dfc-b9ad-4769-8c92-a6c4dae69d19",
    "_uuid": "8f2839f25d086af736a60e9eeb907d3b93b6e0e5",
    "execution": {
     "iopub.execute_input": "2022-11-19T06:12:18.388302Z",
     "iopub.status.busy": "2022-11-19T06:12:18.387626Z",
     "iopub.status.idle": "2022-11-19T06:12:18.403621Z",
     "shell.execute_reply": "2022-11-19T06:12:18.402676Z"
    },
    "papermill": {
     "duration": 0.030316,
     "end_time": "2022-11-19T06:12:18.406973",
     "exception": false,
     "start_time": "2022-11-19T06:12:18.376657",
     "status": "completed"
    },
    "tags": []
   },
   "outputs": [],
   "source": [
    "\n",
    "\n",
    "import numpy as np # linear algebra\n",
    "import pandas as pd # data processing, CSV file I/O (e.g. pd.read_csv)\n",
    "\n",
    "# Input data files are available in the read-only \"../input/\" directory\n",
    "# For example, running this (by clicking run or pressing Shift+Enter) will list all files under the input directory\n",
    "\n",
    "import os\n",
    "for dirname, _, filenames in os.walk('D/Documents'):\n",
    "    for filename in filenames:\n",
    "        print(os.path.join(dirname, filename))\n",
    "\n"
   ]
  },
  {
   "cell_type": "code",
   "execution_count": 2,
   "id": "ace93636",
   "metadata": {
    "execution": {
     "iopub.execute_input": "2022-11-19T06:12:18.424792Z",
     "iopub.status.busy": "2022-11-19T06:12:18.424019Z",
     "iopub.status.idle": "2022-11-19T06:12:20.264211Z",
     "shell.execute_reply": "2022-11-19T06:12:20.262779Z"
    },
    "papermill": {
     "duration": 1.852061,
     "end_time": "2022-11-19T06:12:20.267095",
     "exception": false,
     "start_time": "2022-11-19T06:12:18.415034",
     "status": "completed"
    },
    "tags": []
   },
   "outputs": [],
   "source": [
    "import numpy as np\n",
    "import pandas as pd\n",
    "import re\n",
    "from nltk.corpus import stopwords\n",
    "from nltk.stem.porter import PorterStemmer\n",
    "from sklearn.feature_extraction.text import TfidfVectorizer\n",
    "from sklearn.model_selection import train_test_split\n",
    "from sklearn.linear_model import LogisticRegression\n",
    "from sklearn.metrics import accuracy_score"
   ]
  },
  {
   "cell_type": "code",
   "execution_count": 3,
   "id": "72156eec",
   "metadata": {
    "execution": {
     "iopub.execute_input": "2022-11-19T06:12:20.285420Z",
     "iopub.status.busy": "2022-11-19T06:12:20.285036Z",
     "iopub.status.idle": "2022-11-19T06:12:20.452233Z",
     "shell.execute_reply": "2022-11-19T06:12:20.451072Z"
    },
    "papermill": {
     "duration": 0.178672,
     "end_time": "2022-11-19T06:12:20.454621",
     "exception": false,
     "start_time": "2022-11-19T06:12:20.275949",
     "status": "completed"
    },
    "tags": []
   },
   "outputs": [
    {
     "name": "stderr",
     "output_type": "stream",
     "text": [
      "[nltk_data] Downloading package stopwords to /usr/share/nltk_data...\n",
      "[nltk_data]   Package stopwords is already up-to-date!\n"
     ]
    },
    {
     "data": {
      "text/plain": [
       "True"
      ]
     },
     "execution_count": 3,
     "metadata": {},
     "output_type": "execute_result"
    }
   ],
   "source": [
    "import nltk\n",
    "nltk.download('stopwords')"
   ]
  },
  {
   "cell_type": "code",
   "execution_count": 4,
   "id": "4e3684dc",
   "metadata": {
    "execution": {
     "iopub.execute_input": "2022-11-19T06:12:20.472718Z",
     "iopub.status.busy": "2022-11-19T06:12:20.472293Z",
     "iopub.status.idle": "2022-11-19T06:12:20.482523Z",
     "shell.execute_reply": "2022-11-19T06:12:20.481095Z"
    },
    "papermill": {
     "duration": 0.023334,
     "end_time": "2022-11-19T06:12:20.486117",
     "exception": false,
     "start_time": "2022-11-19T06:12:20.462783",
     "status": "completed"
    },
    "tags": []
   },
   "outputs": [
    {
     "name": "stdout",
     "output_type": "stream",
     "text": [
      "['i', 'me', 'my', 'myself', 'we', 'our', 'ours', 'ourselves', 'you', \"you're\", \"you've\", \"you'll\", \"you'd\", 'your', 'yours', 'yourself', 'yourselves', 'he', 'him', 'his', 'himself', 'she', \"she's\", 'her', 'hers', 'herself', 'it', \"it's\", 'its', 'itself', 'they', 'them', 'their', 'theirs', 'themselves', 'what', 'which', 'who', 'whom', 'this', 'that', \"that'll\", 'these', 'those', 'am', 'is', 'are', 'was', 'were', 'be', 'been', 'being', 'have', 'has', 'had', 'having', 'do', 'does', 'did', 'doing', 'a', 'an', 'the', 'and', 'but', 'if', 'or', 'because', 'as', 'until', 'while', 'of', 'at', 'by', 'for', 'with', 'about', 'against', 'between', 'into', 'through', 'during', 'before', 'after', 'above', 'below', 'to', 'from', 'up', 'down', 'in', 'out', 'on', 'off', 'over', 'under', 'again', 'further', 'then', 'once', 'here', 'there', 'when', 'where', 'why', 'how', 'all', 'any', 'both', 'each', 'few', 'more', 'most', 'other', 'some', 'such', 'no', 'nor', 'not', 'only', 'own', 'same', 'so', 'than', 'too', 'very', 's', 't', 'can', 'will', 'just', 'don', \"don't\", 'should', \"should've\", 'now', 'd', 'll', 'm', 'o', 're', 've', 'y', 'ain', 'aren', \"aren't\", 'couldn', \"couldn't\", 'didn', \"didn't\", 'doesn', \"doesn't\", 'hadn', \"hadn't\", 'hasn', \"hasn't\", 'haven', \"haven't\", 'isn', \"isn't\", 'ma', 'mightn', \"mightn't\", 'mustn', \"mustn't\", 'needn', \"needn't\", 'shan', \"shan't\", 'shouldn', \"shouldn't\", 'wasn', \"wasn't\", 'weren', \"weren't\", 'won', \"won't\", 'wouldn', \"wouldn't\"]\n"
     ]
    }
   ],
   "source": [
    "# printing the stopwords in English\n",
    "print(stopwords.words('english'))"
   ]
  },
  {
   "cell_type": "code",
   "execution_count": 5,
   "id": "959f27cd",
   "metadata": {
    "execution": {
     "iopub.execute_input": "2022-11-19T06:12:20.504555Z",
     "iopub.status.busy": "2022-11-19T06:12:20.504108Z",
     "iopub.status.idle": "2022-11-19T06:12:23.148952Z",
     "shell.execute_reply": "2022-11-19T06:12:23.147981Z"
    },
    "papermill": {
     "duration": 2.656748,
     "end_time": "2022-11-19T06:12:23.151520",
     "exception": false,
     "start_time": "2022-11-19T06:12:20.494772",
     "status": "completed"
    },
    "tags": []
   },
   "outputs": [],
   "source": [
    "# loading the dataset to a pandas DataFrame\n",
    "news_dataset = pd.read_csv('D/documents/fake-news/train.csv')"
   ]
  },
  {
   "cell_type": "code",
   "execution_count": 6,
   "id": "a1dcb4cc",
   "metadata": {
    "execution": {
     "iopub.execute_input": "2022-11-19T06:12:23.172383Z",
     "iopub.status.busy": "2022-11-19T06:12:23.171960Z",
     "iopub.status.idle": "2022-11-19T06:12:23.178709Z",
     "shell.execute_reply": "2022-11-19T06:12:23.177680Z"
    },
    "papermill": {
     "duration": 0.01804,
     "end_time": "2022-11-19T06:12:23.180817",
     "exception": false,
     "start_time": "2022-11-19T06:12:23.162777",
     "status": "completed"
    },
    "tags": []
   },
   "outputs": [
    {
     "data": {
      "text/plain": [
       "(20800, 5)"
      ]
     },
     "execution_count": 6,
     "metadata": {},
     "output_type": "execute_result"
    }
   ],
   "source": [
    "news_dataset.shape"
   ]
  },
  {
   "cell_type": "code",
   "execution_count": 7,
   "id": "48d8b955",
   "metadata": {
    "execution": {
     "iopub.execute_input": "2022-11-19T06:12:23.199228Z",
     "iopub.status.busy": "2022-11-19T06:12:23.197991Z",
     "iopub.status.idle": "2022-11-19T06:12:23.218965Z",
     "shell.execute_reply": "2022-11-19T06:12:23.217878Z"
    },
    "papermill": {
     "duration": 0.03288,
     "end_time": "2022-11-19T06:12:23.221689",
     "exception": false,
     "start_time": "2022-11-19T06:12:23.188809",
     "status": "completed"
    },
    "tags": []
   },
   "outputs": [
    {
     "data": {
      "text/html": [
       "<div>\n",
       "<style scoped>\n",
       "    .dataframe tbody tr th:only-of-type {\n",
       "        vertical-align: middle;\n",
       "    }\n",
       "\n",
       "    .dataframe tbody tr th {\n",
       "        vertical-align: top;\n",
       "    }\n",
       "\n",
       "    .dataframe thead th {\n",
       "        text-align: right;\n",
       "    }\n",
       "</style>\n",
       "<table border=\"1\" class=\"dataframe\">\n",
       "  <thead>\n",
       "    <tr style=\"text-align: right;\">\n",
       "      <th></th>\n",
       "      <th>id</th>\n",
       "      <th>title</th>\n",
       "      <th>author</th>\n",
       "      <th>text</th>\n",
       "      <th>label</th>\n",
       "    </tr>\n",
       "  </thead>\n",
       "  <tbody>\n",
       "    <tr>\n",
       "      <th>0</th>\n",
       "      <td>0</td>\n",
       "      <td>House Dem Aide: We Didn’t Even See Comey’s Let...</td>\n",
       "      <td>Darrell Lucus</td>\n",
       "      <td>House Dem Aide: We Didn’t Even See Comey’s Let...</td>\n",
       "      <td>1</td>\n",
       "    </tr>\n",
       "    <tr>\n",
       "      <th>1</th>\n",
       "      <td>1</td>\n",
       "      <td>FLYNN: Hillary Clinton, Big Woman on Campus - ...</td>\n",
       "      <td>Daniel J. Flynn</td>\n",
       "      <td>Ever get the feeling your life circles the rou...</td>\n",
       "      <td>0</td>\n",
       "    </tr>\n",
       "    <tr>\n",
       "      <th>2</th>\n",
       "      <td>2</td>\n",
       "      <td>Why the Truth Might Get You Fired</td>\n",
       "      <td>Consortiumnews.com</td>\n",
       "      <td>Why the Truth Might Get You Fired October 29, ...</td>\n",
       "      <td>1</td>\n",
       "    </tr>\n",
       "    <tr>\n",
       "      <th>3</th>\n",
       "      <td>3</td>\n",
       "      <td>15 Civilians Killed In Single US Airstrike Hav...</td>\n",
       "      <td>Jessica Purkiss</td>\n",
       "      <td>Videos 15 Civilians Killed In Single US Airstr...</td>\n",
       "      <td>1</td>\n",
       "    </tr>\n",
       "    <tr>\n",
       "      <th>4</th>\n",
       "      <td>4</td>\n",
       "      <td>Iranian woman jailed for fictional unpublished...</td>\n",
       "      <td>Howard Portnoy</td>\n",
       "      <td>Print \\nAn Iranian woman has been sentenced to...</td>\n",
       "      <td>1</td>\n",
       "    </tr>\n",
       "  </tbody>\n",
       "</table>\n",
       "</div>"
      ],
      "text/plain": [
       "   id                                              title              author  \\\n",
       "0   0  House Dem Aide: We Didn’t Even See Comey’s Let...       Darrell Lucus   \n",
       "1   1  FLYNN: Hillary Clinton, Big Woman on Campus - ...     Daniel J. Flynn   \n",
       "2   2                  Why the Truth Might Get You Fired  Consortiumnews.com   \n",
       "3   3  15 Civilians Killed In Single US Airstrike Hav...     Jessica Purkiss   \n",
       "4   4  Iranian woman jailed for fictional unpublished...      Howard Portnoy   \n",
       "\n",
       "                                                text  label  \n",
       "0  House Dem Aide: We Didn’t Even See Comey’s Let...      1  \n",
       "1  Ever get the feeling your life circles the rou...      0  \n",
       "2  Why the Truth Might Get You Fired October 29, ...      1  \n",
       "3  Videos 15 Civilians Killed In Single US Airstr...      1  \n",
       "4  Print \\nAn Iranian woman has been sentenced to...      1  "
      ]
     },
     "execution_count": 7,
     "metadata": {},
     "output_type": "execute_result"
    }
   ],
   "source": [
    "# print the first 5 rows of the dataframe\n",
    "news_dataset.head()"
   ]
  },
  {
   "cell_type": "code",
   "execution_count": 8,
   "id": "6fe76298",
   "metadata": {
    "execution": {
     "iopub.execute_input": "2022-11-19T06:12:23.240157Z",
     "iopub.status.busy": "2022-11-19T06:12:23.239775Z",
     "iopub.status.idle": "2022-11-19T06:12:23.257291Z",
     "shell.execute_reply": "2022-11-19T06:12:23.256083Z"
    },
    "papermill": {
     "duration": 0.029508,
     "end_time": "2022-11-19T06:12:23.259743",
     "exception": false,
     "start_time": "2022-11-19T06:12:23.230235",
     "status": "completed"
    },
    "tags": []
   },
   "outputs": [
    {
     "data": {
      "text/plain": [
       "id           0\n",
       "title      558\n",
       "author    1957\n",
       "text        39\n",
       "label        0\n",
       "dtype: int64"
      ]
     },
     "execution_count": 8,
     "metadata": {},
     "output_type": "execute_result"
    }
   ],
   "source": [
    "# counting the number of missing values in the dataset\n",
    "news_dataset.isnull().sum()"
   ]
  },
  {
   "cell_type": "code",
   "execution_count": 9,
   "id": "f2895870",
   "metadata": {
    "execution": {
     "iopub.execute_input": "2022-11-19T06:12:23.278365Z",
     "iopub.status.busy": "2022-11-19T06:12:23.277948Z",
     "iopub.status.idle": "2022-11-19T06:12:23.291182Z",
     "shell.execute_reply": "2022-11-19T06:12:23.289785Z"
    },
    "papermill": {
     "duration": 0.025523,
     "end_time": "2022-11-19T06:12:23.293740",
     "exception": false,
     "start_time": "2022-11-19T06:12:23.268217",
     "status": "completed"
    },
    "tags": []
   },
   "outputs": [],
   "source": [
    "# replacing the null values with empty string\n",
    "news_dataset = news_dataset.fillna('')"
   ]
  },
  {
   "cell_type": "code",
   "execution_count": 10,
   "id": "383ebd40",
   "metadata": {
    "execution": {
     "iopub.execute_input": "2022-11-19T06:12:23.312606Z",
     "iopub.status.busy": "2022-11-19T06:12:23.312212Z",
     "iopub.status.idle": "2022-11-19T06:12:23.330048Z",
     "shell.execute_reply": "2022-11-19T06:12:23.328902Z"
    },
    "papermill": {
     "duration": 0.030026,
     "end_time": "2022-11-19T06:12:23.332360",
     "exception": false,
     "start_time": "2022-11-19T06:12:23.302334",
     "status": "completed"
    },
    "tags": []
   },
   "outputs": [],
   "source": [
    "# merging the author name and news title\n",
    "news_dataset['content'] = news_dataset['author']+' '+news_dataset['title']"
   ]
  },
  {
   "cell_type": "code",
   "execution_count": 11,
   "id": "e34c0430",
   "metadata": {
    "execution": {
     "iopub.execute_input": "2022-11-19T06:12:23.350883Z",
     "iopub.status.busy": "2022-11-19T06:12:23.350450Z",
     "iopub.status.idle": "2022-11-19T06:12:23.357048Z",
     "shell.execute_reply": "2022-11-19T06:12:23.356281Z"
    },
    "papermill": {
     "duration": 0.019295,
     "end_time": "2022-11-19T06:12:23.360200",
     "exception": false,
     "start_time": "2022-11-19T06:12:23.340905",
     "status": "completed"
    },
    "tags": []
   },
   "outputs": [
    {
     "name": "stdout",
     "output_type": "stream",
     "text": [
      "0        Darrell Lucus House Dem Aide: We Didn’t Even S...\n",
      "1        Daniel J. Flynn FLYNN: Hillary Clinton, Big Wo...\n",
      "2        Consortiumnews.com Why the Truth Might Get You...\n",
      "3        Jessica Purkiss 15 Civilians Killed In Single ...\n",
      "4        Howard Portnoy Iranian woman jailed for fictio...\n",
      "                               ...                        \n",
      "20795    Jerome Hudson Rapper T.I.: Trump a ’Poster Chi...\n",
      "20796    Benjamin Hoffman N.F.L. Playoffs: Schedule, Ma...\n",
      "20797    Michael J. de la Merced and Rachel Abrams Macy...\n",
      "20798    Alex Ansary NATO, Russia To Hold Parallel Exer...\n",
      "20799              David Swanson What Keeps the F-35 Alive\n",
      "Name: content, Length: 20800, dtype: object\n"
     ]
    }
   ],
   "source": [
    "print(news_dataset['content'])"
   ]
  },
  {
   "cell_type": "code",
   "execution_count": 12,
   "id": "2e6b586d",
   "metadata": {
    "execution": {
     "iopub.execute_input": "2022-11-19T06:12:23.380376Z",
     "iopub.status.busy": "2022-11-19T06:12:23.379785Z",
     "iopub.status.idle": "2022-11-19T06:12:23.395909Z",
     "shell.execute_reply": "2022-11-19T06:12:23.394799Z"
    },
    "papermill": {
     "duration": 0.028834,
     "end_time": "2022-11-19T06:12:23.398665",
     "exception": false,
     "start_time": "2022-11-19T06:12:23.369831",
     "status": "completed"
    },
    "tags": []
   },
   "outputs": [],
   "source": [
    "# separating the data & label\n",
    "X = news_dataset.drop(columns='label', axis=1)\n",
    "Y = news_dataset['label']"
   ]
  },
  {
   "cell_type": "code",
   "execution_count": 13,
   "id": "f691e917",
   "metadata": {
    "execution": {
     "iopub.execute_input": "2022-11-19T06:12:23.418956Z",
     "iopub.status.busy": "2022-11-19T06:12:23.418526Z",
     "iopub.status.idle": "2022-11-19T06:12:23.428756Z",
     "shell.execute_reply": "2022-11-19T06:12:23.427798Z"
    },
    "papermill": {
     "duration": 0.024591,
     "end_time": "2022-11-19T06:12:23.432225",
     "exception": false,
     "start_time": "2022-11-19T06:12:23.407634",
     "status": "completed"
    },
    "tags": []
   },
   "outputs": [
    {
     "name": "stdout",
     "output_type": "stream",
     "text": [
      "          id                                              title  \\\n",
      "0          0  House Dem Aide: We Didn’t Even See Comey’s Let...   \n",
      "1          1  FLYNN: Hillary Clinton, Big Woman on Campus - ...   \n",
      "2          2                  Why the Truth Might Get You Fired   \n",
      "3          3  15 Civilians Killed In Single US Airstrike Hav...   \n",
      "4          4  Iranian woman jailed for fictional unpublished...   \n",
      "...      ...                                                ...   \n",
      "20795  20795  Rapper T.I.: Trump a ’Poster Child For White S...   \n",
      "20796  20796  N.F.L. Playoffs: Schedule, Matchups and Odds -...   \n",
      "20797  20797  Macy’s Is Said to Receive Takeover Approach by...   \n",
      "20798  20798  NATO, Russia To Hold Parallel Exercises In Bal...   \n",
      "20799  20799                          What Keeps the F-35 Alive   \n",
      "\n",
      "                                          author  \\\n",
      "0                                  Darrell Lucus   \n",
      "1                                Daniel J. Flynn   \n",
      "2                             Consortiumnews.com   \n",
      "3                                Jessica Purkiss   \n",
      "4                                 Howard Portnoy   \n",
      "...                                          ...   \n",
      "20795                              Jerome Hudson   \n",
      "20796                           Benjamin Hoffman   \n",
      "20797  Michael J. de la Merced and Rachel Abrams   \n",
      "20798                                Alex Ansary   \n",
      "20799                              David Swanson   \n",
      "\n",
      "                                                    text  \\\n",
      "0      House Dem Aide: We Didn’t Even See Comey’s Let...   \n",
      "1      Ever get the feeling your life circles the rou...   \n",
      "2      Why the Truth Might Get You Fired October 29, ...   \n",
      "3      Videos 15 Civilians Killed In Single US Airstr...   \n",
      "4      Print \\nAn Iranian woman has been sentenced to...   \n",
      "...                                                  ...   \n",
      "20795  Rapper T. I. unloaded on black celebrities who...   \n",
      "20796  When the Green Bay Packers lost to the Washing...   \n",
      "20797  The Macy’s of today grew from the union of sev...   \n",
      "20798  NATO, Russia To Hold Parallel Exercises In Bal...   \n",
      "20799    David Swanson is an author, activist, journa...   \n",
      "\n",
      "                                                 content  \n",
      "0      Darrell Lucus House Dem Aide: We Didn’t Even S...  \n",
      "1      Daniel J. Flynn FLYNN: Hillary Clinton, Big Wo...  \n",
      "2      Consortiumnews.com Why the Truth Might Get You...  \n",
      "3      Jessica Purkiss 15 Civilians Killed In Single ...  \n",
      "4      Howard Portnoy Iranian woman jailed for fictio...  \n",
      "...                                                  ...  \n",
      "20795  Jerome Hudson Rapper T.I.: Trump a ’Poster Chi...  \n",
      "20796  Benjamin Hoffman N.F.L. Playoffs: Schedule, Ma...  \n",
      "20797  Michael J. de la Merced and Rachel Abrams Macy...  \n",
      "20798  Alex Ansary NATO, Russia To Hold Parallel Exer...  \n",
      "20799            David Swanson What Keeps the F-35 Alive  \n",
      "\n",
      "[20800 rows x 5 columns]\n",
      "0        1\n",
      "1        0\n",
      "2        1\n",
      "3        1\n",
      "4        1\n",
      "        ..\n",
      "20795    0\n",
      "20796    0\n",
      "20797    0\n",
      "20798    1\n",
      "20799    1\n",
      "Name: label, Length: 20800, dtype: int64\n"
     ]
    }
   ],
   "source": [
    "print(X)\n",
    "print(Y)"
   ]
  },
  {
   "cell_type": "markdown",
   "id": "9c09509e",
   "metadata": {
    "papermill": {
     "duration": 0.009024,
     "end_time": "2022-11-19T06:12:23.450119",
     "exception": false,
     "start_time": "2022-11-19T06:12:23.441095",
     "status": "completed"
    },
    "tags": []
   },
   "source": [
    "# Stemming:\n",
    "\n",
    "Stemming is the process of reducing a word to its Root word\n",
    "\n",
    "example:\n",
    "actor, actress, acting --> act"
   ]
  },
  {
   "cell_type": "code",
   "execution_count": 14,
   "id": "fd9ebe14",
   "metadata": {
    "execution": {
     "iopub.execute_input": "2022-11-19T06:12:23.469493Z",
     "iopub.status.busy": "2022-11-19T06:12:23.469058Z",
     "iopub.status.idle": "2022-11-19T06:12:23.474711Z",
     "shell.execute_reply": "2022-11-19T06:12:23.473337Z"
    },
    "papermill": {
     "duration": 0.018374,
     "end_time": "2022-11-19T06:12:23.477215",
     "exception": false,
     "start_time": "2022-11-19T06:12:23.458841",
     "status": "completed"
    },
    "tags": []
   },
   "outputs": [],
   "source": [
    "port_stem = PorterStemmer()"
   ]
  },
  {
   "cell_type": "code",
   "execution_count": 15,
   "id": "be1e84be",
   "metadata": {
    "execution": {
     "iopub.execute_input": "2022-11-19T06:12:23.497730Z",
     "iopub.status.busy": "2022-11-19T06:12:23.497166Z",
     "iopub.status.idle": "2022-11-19T06:12:23.503888Z",
     "shell.execute_reply": "2022-11-19T06:12:23.502827Z"
    },
    "papermill": {
     "duration": 0.0199,
     "end_time": "2022-11-19T06:12:23.506165",
     "exception": false,
     "start_time": "2022-11-19T06:12:23.486265",
     "status": "completed"
    },
    "tags": []
   },
   "outputs": [],
   "source": [
    "def stemming(content):\n",
    "    stemmed_content = re.sub('[^a-zA-Z]',' ',content)\n",
    "    stemmed_content = stemmed_content.lower()\n",
    "    stemmed_content = stemmed_content.split()\n",
    "    stemmed_content = [port_stem.stem(word) for word in stemmed_content if not word in stopwords.words('english')]\n",
    "    stemmed_content = ' '.join(stemmed_content)\n",
    "    return stemmed_content"
   ]
  },
  {
   "cell_type": "code",
   "execution_count": 16,
   "id": "0dfd4d21",
   "metadata": {
    "execution": {
     "iopub.execute_input": "2022-11-19T06:12:23.526035Z",
     "iopub.status.busy": "2022-11-19T06:12:23.525269Z",
     "iopub.status.idle": "2022-11-19T06:13:11.308151Z",
     "shell.execute_reply": "2022-11-19T06:13:11.306823Z"
    },
    "papermill": {
     "duration": 47.804046,
     "end_time": "2022-11-19T06:13:11.319114",
     "exception": false,
     "start_time": "2022-11-19T06:12:23.515068",
     "status": "completed"
    },
    "tags": []
   },
   "outputs": [
    {
     "name": "stdout",
     "output_type": "stream",
     "text": [
      "0        darrel lucu hous dem aid even see comey letter...\n",
      "1        daniel j flynn flynn hillari clinton big woman...\n",
      "2                   consortiumnew com truth might get fire\n",
      "3        jessica purkiss civilian kill singl us airstri...\n",
      "4        howard portnoy iranian woman jail fiction unpu...\n",
      "                               ...                        \n",
      "20795    jerom hudson rapper trump poster child white s...\n",
      "20796    benjamin hoffman n f l playoff schedul matchup...\n",
      "20797    michael j de la merc rachel abram maci said re...\n",
      "20798    alex ansari nato russia hold parallel exercis ...\n",
      "20799                            david swanson keep f aliv\n",
      "Name: content, Length: 20800, dtype: object\n"
     ]
    }
   ],
   "source": [
    "news_dataset['content'] = news_dataset['content'].apply(stemming)\n",
    "print(news_dataset['content'])"
   ]
  },
  {
   "cell_type": "code",
   "execution_count": 17,
   "id": "e2623ecd",
   "metadata": {
    "execution": {
     "iopub.execute_input": "2022-11-19T06:13:11.338610Z",
     "iopub.status.busy": "2022-11-19T06:13:11.338153Z",
     "iopub.status.idle": "2022-11-19T06:13:11.347070Z",
     "shell.execute_reply": "2022-11-19T06:13:11.346164Z"
    },
    "papermill": {
     "duration": 0.021372,
     "end_time": "2022-11-19T06:13:11.349303",
     "exception": false,
     "start_time": "2022-11-19T06:13:11.327931",
     "status": "completed"
    },
    "tags": []
   },
   "outputs": [],
   "source": [
    "#separating the data and label\n",
    "X = news_dataset['content'].values\n",
    "Y = news_dataset['label'].values"
   ]
  },
  {
   "cell_type": "code",
   "execution_count": 18,
   "id": "9d67948a",
   "metadata": {
    "execution": {
     "iopub.execute_input": "2022-11-19T06:13:11.368921Z",
     "iopub.status.busy": "2022-11-19T06:13:11.368478Z",
     "iopub.status.idle": "2022-11-19T06:13:11.375653Z",
     "shell.execute_reply": "2022-11-19T06:13:11.373635Z"
    },
    "papermill": {
     "duration": 0.019933,
     "end_time": "2022-11-19T06:13:11.378222",
     "exception": false,
     "start_time": "2022-11-19T06:13:11.358289",
     "status": "completed"
    },
    "tags": []
   },
   "outputs": [
    {
     "name": "stdout",
     "output_type": "stream",
     "text": [
      "['darrel lucu hous dem aid even see comey letter jason chaffetz tweet'\n",
      " 'daniel j flynn flynn hillari clinton big woman campu breitbart'\n",
      " 'consortiumnew com truth might get fire' ...\n",
      " 'michael j de la merc rachel abram maci said receiv takeov approach hudson bay new york time'\n",
      " 'alex ansari nato russia hold parallel exercis balkan'\n",
      " 'david swanson keep f aliv']\n",
      "[1 0 1 ... 0 1 1]\n"
     ]
    }
   ],
   "source": [
    "print(X)\n",
    "print(Y)"
   ]
  },
  {
   "cell_type": "code",
   "execution_count": 19,
   "id": "b669759a",
   "metadata": {
    "execution": {
     "iopub.execute_input": "2022-11-19T06:13:11.398596Z",
     "iopub.status.busy": "2022-11-19T06:13:11.397548Z",
     "iopub.status.idle": "2022-11-19T06:13:11.927442Z",
     "shell.execute_reply": "2022-11-19T06:13:11.926344Z"
    },
    "papermill": {
     "duration": 0.542751,
     "end_time": "2022-11-19T06:13:11.930039",
     "exception": false,
     "start_time": "2022-11-19T06:13:11.387288",
     "status": "completed"
    },
    "tags": []
   },
   "outputs": [],
   "source": [
    "# converting the textual data to numerical data\n",
    "vectorizer = TfidfVectorizer()\n",
    "vectorizer.fit(X)\n",
    "\n",
    "X = vectorizer.transform(X)"
   ]
  },
  {
   "cell_type": "code",
   "execution_count": 20,
   "id": "070f6258",
   "metadata": {
    "execution": {
     "iopub.execute_input": "2022-11-19T06:13:11.950493Z",
     "iopub.status.busy": "2022-11-19T06:13:11.949317Z",
     "iopub.status.idle": "2022-11-19T06:13:11.959374Z",
     "shell.execute_reply": "2022-11-19T06:13:11.957362Z"
    },
    "papermill": {
     "duration": 0.023009,
     "end_time": "2022-11-19T06:13:11.962021",
     "exception": false,
     "start_time": "2022-11-19T06:13:11.939012",
     "status": "completed"
    },
    "tags": []
   },
   "outputs": [
    {
     "name": "stdout",
     "output_type": "stream",
     "text": [
      "  (0, 15686)\t0.28485063562728646\n",
      "  (0, 13473)\t0.2565896679337957\n",
      "  (0, 8909)\t0.3635963806326075\n",
      "  (0, 8630)\t0.29212514087043684\n",
      "  (0, 7692)\t0.24785219520671603\n",
      "  (0, 7005)\t0.21874169089359144\n",
      "  (0, 4973)\t0.233316966909351\n",
      "  (0, 3792)\t0.2705332480845492\n",
      "  (0, 3600)\t0.3598939188262559\n",
      "  (0, 2959)\t0.2468450128533713\n",
      "  (0, 2483)\t0.3676519686797209\n",
      "  (0, 267)\t0.27010124977708766\n",
      "  (1, 16799)\t0.30071745655510157\n",
      "  (1, 6816)\t0.1904660198296849\n",
      "  (1, 5503)\t0.7143299355715573\n",
      "  (1, 3568)\t0.26373768806048464\n",
      "  (1, 2813)\t0.19094574062359204\n",
      "  (1, 2223)\t0.3827320386859759\n",
      "  (1, 1894)\t0.15521974226349364\n",
      "  (1, 1497)\t0.2939891562094648\n",
      "  (2, 15611)\t0.41544962664721613\n",
      "  (2, 9620)\t0.49351492943649944\n",
      "  (2, 5968)\t0.3474613386728292\n",
      "  (2, 5389)\t0.3866530551182615\n",
      "  (2, 3103)\t0.46097489583229645\n",
      "  :\t:\n",
      "  (20797, 13122)\t0.2482526352197606\n",
      "  (20797, 12344)\t0.27263457663336677\n",
      "  (20797, 12138)\t0.24778257724396507\n",
      "  (20797, 10306)\t0.08038079000566466\n",
      "  (20797, 9588)\t0.174553480255222\n",
      "  (20797, 9518)\t0.2954204003420313\n",
      "  (20797, 8988)\t0.36160868928090795\n",
      "  (20797, 8364)\t0.22322585870464118\n",
      "  (20797, 7042)\t0.21799048897828688\n",
      "  (20797, 3643)\t0.21155500613623743\n",
      "  (20797, 1287)\t0.33538056804139865\n",
      "  (20797, 699)\t0.30685846079762347\n",
      "  (20797, 43)\t0.29710241860700626\n",
      "  (20798, 13046)\t0.22363267488270608\n",
      "  (20798, 11052)\t0.4460515589182236\n",
      "  (20798, 10177)\t0.3192496370187028\n",
      "  (20798, 6889)\t0.32496285694299426\n",
      "  (20798, 5032)\t0.4083701450239529\n",
      "  (20798, 1125)\t0.4460515589182236\n",
      "  (20798, 588)\t0.3112141524638974\n",
      "  (20798, 350)\t0.28446937819072576\n",
      "  (20799, 14852)\t0.5677577267055112\n",
      "  (20799, 8036)\t0.45983893273780013\n",
      "  (20799, 3623)\t0.37927626273066584\n",
      "  (20799, 377)\t0.5677577267055112\n"
     ]
    }
   ],
   "source": [
    "print(X)\n"
   ]
  },
  {
   "cell_type": "code",
   "execution_count": 21,
   "id": "21dc8157",
   "metadata": {
    "execution": {
     "iopub.execute_input": "2022-11-19T06:13:11.982432Z",
     "iopub.status.busy": "2022-11-19T06:13:11.981988Z",
     "iopub.status.idle": "2022-11-19T06:13:11.999940Z",
     "shell.execute_reply": "2022-11-19T06:13:11.998789Z"
    },
    "papermill": {
     "duration": 0.03123,
     "end_time": "2022-11-19T06:13:12.002688",
     "exception": false,
     "start_time": "2022-11-19T06:13:11.971458",
     "status": "completed"
    },
    "tags": []
   },
   "outputs": [],
   "source": [
    "X_train, X_test, Y_train, Y_test = train_test_split(X, Y, test_size = 0.2, stratify=Y, random_state=2)"
   ]
  },
  {
   "cell_type": "code",
   "execution_count": 22,
   "id": "e1cdcfe3",
   "metadata": {
    "execution": {
     "iopub.execute_input": "2022-11-19T06:13:12.023547Z",
     "iopub.status.busy": "2022-11-19T06:13:12.023127Z",
     "iopub.status.idle": "2022-11-19T06:13:12.028225Z",
     "shell.execute_reply": "2022-11-19T06:13:12.027000Z"
    },
    "papermill": {
     "duration": 0.018102,
     "end_time": "2022-11-19T06:13:12.030402",
     "exception": false,
     "start_time": "2022-11-19T06:13:12.012300",
     "status": "completed"
    },
    "tags": []
   },
   "outputs": [],
   "source": [
    "model = LogisticRegression()"
   ]
  },
  {
   "cell_type": "code",
   "execution_count": 23,
   "id": "1cf1a978",
   "metadata": {
    "execution": {
     "iopub.execute_input": "2022-11-19T06:13:12.050440Z",
     "iopub.status.busy": "2022-11-19T06:13:12.049731Z",
     "iopub.status.idle": "2022-11-19T06:13:12.936323Z",
     "shell.execute_reply": "2022-11-19T06:13:12.934545Z"
    },
    "papermill": {
     "duration": 0.902239,
     "end_time": "2022-11-19T06:13:12.941645",
     "exception": false,
     "start_time": "2022-11-19T06:13:12.039406",
     "status": "completed"
    },
    "tags": []
   },
   "outputs": [
    {
     "data": {
      "text/plain": [
       "LogisticRegression()"
      ]
     },
     "execution_count": 23,
     "metadata": {},
     "output_type": "execute_result"
    }
   ],
   "source": [
    "model.fit(X_train, Y_train)"
   ]
  },
  {
   "cell_type": "code",
   "execution_count": 24,
   "id": "ef44f30c",
   "metadata": {
    "execution": {
     "iopub.execute_input": "2022-11-19T06:13:13.028261Z",
     "iopub.status.busy": "2022-11-19T06:13:13.027387Z",
     "iopub.status.idle": "2022-11-19T06:13:13.038414Z",
     "shell.execute_reply": "2022-11-19T06:13:13.037495Z"
    },
    "papermill": {
     "duration": 0.061865,
     "end_time": "2022-11-19T06:13:13.040735",
     "exception": false,
     "start_time": "2022-11-19T06:13:12.978870",
     "status": "completed"
    },
    "tags": []
   },
   "outputs": [],
   "source": [
    "# accuracy score on the training data\n",
    "X_train_prediction = model.predict(X_train)\n",
    "training_data_accuracy = accuracy_score(X_train_prediction, Y_train)"
   ]
  },
  {
   "cell_type": "code",
   "execution_count": 25,
   "id": "237d7d61",
   "metadata": {
    "execution": {
     "iopub.execute_input": "2022-11-19T06:13:13.061033Z",
     "iopub.status.busy": "2022-11-19T06:13:13.060591Z",
     "iopub.status.idle": "2022-11-19T06:13:13.066031Z",
     "shell.execute_reply": "2022-11-19T06:13:13.064844Z"
    },
    "papermill": {
     "duration": 0.019323,
     "end_time": "2022-11-19T06:13:13.069180",
     "exception": false,
     "start_time": "2022-11-19T06:13:13.049857",
     "status": "completed"
    },
    "tags": []
   },
   "outputs": [
    {
     "name": "stdout",
     "output_type": "stream",
     "text": [
      "Accuracy score of the training data :  0.9865985576923076\n"
     ]
    }
   ],
   "source": [
    "print('Accuracy score of the training data : ', training_data_accuracy)"
   ]
  },
  {
   "cell_type": "code",
   "execution_count": 26,
   "id": "d13ec079",
   "metadata": {
    "execution": {
     "iopub.execute_input": "2022-11-19T06:13:13.089896Z",
     "iopub.status.busy": "2022-11-19T06:13:13.089064Z",
     "iopub.status.idle": "2022-11-19T06:13:13.095489Z",
     "shell.execute_reply": "2022-11-19T06:13:13.094711Z"
    },
    "papermill": {
     "duration": 0.019737,
     "end_time": "2022-11-19T06:13:13.097891",
     "exception": false,
     "start_time": "2022-11-19T06:13:13.078154",
     "status": "completed"
    },
    "tags": []
   },
   "outputs": [],
   "source": [
    "# accuracy score on the test data\n",
    "X_test_prediction = model.predict(X_test)\n",
    "test_data_accuracy = accuracy_score(X_test_prediction, Y_test)"
   ]
  },
  {
   "cell_type": "code",
   "execution_count": 27,
   "id": "0f596157",
   "metadata": {
    "execution": {
     "iopub.execute_input": "2022-11-19T06:13:13.118334Z",
     "iopub.status.busy": "2022-11-19T06:13:13.117505Z",
     "iopub.status.idle": "2022-11-19T06:13:13.124387Z",
     "shell.execute_reply": "2022-11-19T06:13:13.122729Z"
    },
    "papermill": {
     "duration": 0.019876,
     "end_time": "2022-11-19T06:13:13.126908",
     "exception": false,
     "start_time": "2022-11-19T06:13:13.107032",
     "status": "completed"
    },
    "tags": []
   },
   "outputs": [
    {
     "name": "stdout",
     "output_type": "stream",
     "text": [
      "Accuracy score of the test data :  0.9790865384615385\n"
     ]
    }
   ],
   "source": [
    "print('Accuracy score of the test data : ', test_data_accuracy)"
   ]
  },
  {
   "cell_type": "code",
   "execution_count": 28,
   "id": "609a15dc",
   "metadata": {
    "execution": {
     "iopub.execute_input": "2022-11-19T06:13:13.146766Z",
     "iopub.status.busy": "2022-11-19T06:13:13.146321Z",
     "iopub.status.idle": "2022-11-19T06:13:13.153108Z",
     "shell.execute_reply": "2022-11-19T06:13:13.152229Z"
    },
    "papermill": {
     "duration": 0.020482,
     "end_time": "2022-11-19T06:13:13.156374",
     "exception": false,
     "start_time": "2022-11-19T06:13:13.135892",
     "status": "completed"
    },
    "tags": []
   },
   "outputs": [
    {
     "name": "stdout",
     "output_type": "stream",
     "text": [
      "[0]\n",
      "The news is Real\n"
     ]
    }
   ],
   "source": [
    "X_new = X_test[3]\n",
    "\n",
    "prediction = model.predict(X_new)\n",
    "print(prediction)\n",
    "\n",
    "if (prediction[0]==0):\n",
    "  print('The news is Real')\n",
    "else:\n",
    "  print('The news is Fake')"
   ]
  },
  {
   "cell_type": "code",
   "execution_count": 29,
   "id": "01764c94",
   "metadata": {
    "execution": {
     "iopub.execute_input": "2022-11-19T06:13:13.178683Z",
     "iopub.status.busy": "2022-11-19T06:13:13.177636Z",
     "iopub.status.idle": "2022-11-19T06:13:13.183814Z",
     "shell.execute_reply": "2022-11-19T06:13:13.182668Z"
    },
    "papermill": {
     "duration": 0.019541,
     "end_time": "2022-11-19T06:13:13.186718",
     "exception": false,
     "start_time": "2022-11-19T06:13:13.167177",
     "status": "completed"
    },
    "tags": []
   },
   "outputs": [
    {
     "name": "stdout",
     "output_type": "stream",
     "text": [
      "0\n"
     ]
    }
   ],
   "source": [
    "print(Y_test[3])"
   ]
  },
  {
   "cell_type": "markdown",
   "id": "1a511426",
   "metadata": {
    "papermill": {
     "duration": 0.008841,
     "end_time": "2022-11-19T06:13:13.205730",
     "exception": false,
     "start_time": "2022-11-19T06:13:13.196889",
     "status": "completed"
    },
    "tags": []
   },
   "source": []
  },
  {
   "cell_type": "code",
   "execution_count": null,
   "id": "db4b861d",
   "metadata": {
    "papermill": {
     "duration": 0.008903,
     "end_time": "2022-11-19T06:13:13.223695",
     "exception": false,
     "start_time": "2022-11-19T06:13:13.214792",
     "status": "completed"
    },
    "tags": []
   },
   "outputs": [],
   "source": []
  }
 ],
 "metadata": {
  "kernelspec": {
   "display_name": "Python 3",
   "language": "python",
   "name": "python3"
  },
  "language_info": {
   "codemirror_mode": {
    "name": "ipython",
    "version": 3
   },
   "file_extension": ".py",
   "mimetype": "text/x-python",
   "name": "python",
   "nbconvert_exporter": "python",
   "pygments_lexer": "ipython3",
   "version": "3.8.8"
  },
  "papermill": {
   "default_parameters": {},
   "duration": 64.660112,
   "end_time": "2022-11-19T06:13:14.055835",
   "environment_variables": {},
   "exception": null,
   "input_path": "__notebook__.ipynb",
   "output_path": "__notebook__.ipynb",
   "parameters": {},
   "start_time": "2022-11-19T06:12:09.395723",
   "version": "2.3.4"
  }
 },
 "nbformat": 4,
 "nbformat_minor": 5
}
