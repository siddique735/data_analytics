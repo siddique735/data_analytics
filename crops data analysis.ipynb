{
 "cells": [
  {
   "cell_type": "markdown",
   "id": "5e7d4eea",
   "metadata": {},
   "source": [
    "#### Import necessary libraries"
   ]
  },
  {
   "cell_type": "code",
   "execution_count": 2,
   "id": "2673e6da",
   "metadata": {},
   "outputs": [],
   "source": [
    "import pandas as pd\n",
    "import numpy as np\n",
    "import seaborn as sns\n",
    "import matplotlib.pyplot as plt"
   ]
  },
  {
   "cell_type": "markdown",
   "id": "5a6a54ba",
   "metadata": {},
   "source": [
    "#### Import dataset"
   ]
  },
  {
   "cell_type": "code",
   "execution_count": 47,
   "id": "5f2fd2bb",
   "metadata": {},
   "outputs": [],
   "source": [
    "df=pd.read_csv(\"D:\\datasets\\crops_data.csv\")\n",
    "# this is real data  about major crops in Pakistan."
   ]
  },
  {
   "cell_type": "markdown",
   "id": "a098ba53",
   "metadata": {},
   "source": [
    "#### Data exploration"
   ]
  },
  {
   "cell_type": "code",
   "execution_count": 5,
   "id": "e5bce1ad",
   "metadata": {},
   "outputs": [
    {
     "data": {
      "text/html": [
       "<div>\n",
       "<style scoped>\n",
       "    .dataframe tbody tr th:only-of-type {\n",
       "        vertical-align: middle;\n",
       "    }\n",
       "\n",
       "    .dataframe tbody tr th {\n",
       "        vertical-align: top;\n",
       "    }\n",
       "\n",
       "    .dataframe thead th {\n",
       "        text-align: right;\n",
       "    }\n",
       "</style>\n",
       "<table border=\"1\" class=\"dataframe\">\n",
       "  <thead>\n",
       "    <tr style=\"text-align: right;\">\n",
       "      <th></th>\n",
       "      <th>years</th>\n",
       "      <th>crops</th>\n",
       "      <th>area(hectre)</th>\n",
       "      <th>production(million)</th>\n",
       "    </tr>\n",
       "  </thead>\n",
       "  <tbody>\n",
       "    <tr>\n",
       "      <th>0</th>\n",
       "      <td>2011-12</td>\n",
       "      <td>wheat</td>\n",
       "      <td>8649.8</td>\n",
       "      <td>23473.4</td>\n",
       "    </tr>\n",
       "    <tr>\n",
       "      <th>1</th>\n",
       "      <td>2012-13</td>\n",
       "      <td>wheat</td>\n",
       "      <td>8660.2</td>\n",
       "      <td>24211.4</td>\n",
       "    </tr>\n",
       "    <tr>\n",
       "      <th>2</th>\n",
       "      <td>2013-14</td>\n",
       "      <td>wheat</td>\n",
       "      <td>9199.3</td>\n",
       "      <td>25979.4</td>\n",
       "    </tr>\n",
       "    <tr>\n",
       "      <th>3</th>\n",
       "      <td>2014-15</td>\n",
       "      <td>wheat</td>\n",
       "      <td>9203.9</td>\n",
       "      <td>25086.1</td>\n",
       "    </tr>\n",
       "    <tr>\n",
       "      <th>4</th>\n",
       "      <td>2015-16</td>\n",
       "      <td>wheat</td>\n",
       "      <td>9223.7</td>\n",
       "      <td>25633.1</td>\n",
       "    </tr>\n",
       "  </tbody>\n",
       "</table>\n",
       "</div>"
      ],
      "text/plain": [
       "     years  crops  area(hectre)  production(million)\n",
       "0  2011-12  wheat        8649.8              23473.4\n",
       "1  2012-13  wheat        8660.2              24211.4\n",
       "2  2013-14  wheat        9199.3              25979.4\n",
       "3  2014-15  wheat        9203.9              25086.1\n",
       "4  2015-16  wheat        9223.7              25633.1"
      ]
     },
     "execution_count": 5,
     "metadata": {},
     "output_type": "execute_result"
    }
   ],
   "source": [
    "df.head()"
   ]
  },
  {
   "cell_type": "code",
   "execution_count": 48,
   "id": "f865f10f",
   "metadata": {},
   "outputs": [
    {
     "data": {
      "text/plain": [
       "(50, 4)"
      ]
     },
     "execution_count": 48,
     "metadata": {},
     "output_type": "execute_result"
    }
   ],
   "source": [
    "df.shape\n",
    "# there are total 50 rows and 4 columns "
   ]
  },
  {
   "cell_type": "code",
   "execution_count": 50,
   "id": "e1f0fa6a",
   "metadata": {},
   "outputs": [
    {
     "name": "stdout",
     "output_type": "stream",
     "text": [
      "<class 'pandas.core.frame.DataFrame'>\n",
      "RangeIndex: 50 entries, 0 to 49\n",
      "Data columns (total 4 columns):\n",
      " #   Column               Non-Null Count  Dtype  \n",
      "---  ------               --------------  -----  \n",
      " 0   years                50 non-null     object \n",
      " 1   crops                50 non-null     object \n",
      " 2   area(hectre)         50 non-null     float64\n",
      " 3   production(million)  50 non-null     float64\n",
      "dtypes: float64(2), object(2)\n",
      "memory usage: 1.7+ KB\n"
     ]
    }
   ],
   "source": [
    "df.info()\n",
    "# 4 columns with 50, each has 50 values\n",
    "# years and crops object data type, area(hecters) and production( millions tons) with flot data types."
   ]
  },
  {
   "cell_type": "code",
   "execution_count": 49,
   "id": "324a7f7e",
   "metadata": {},
   "outputs": [
    {
     "data": {
      "text/plain": [
       "years                  0\n",
       "crops                  0\n",
       "area(hectre)           0\n",
       "production(million)    0\n",
       "dtype: int64"
      ]
     },
     "execution_count": 49,
     "metadata": {},
     "output_type": "execute_result"
    }
   ],
   "source": [
    "# find any null values\n",
    "df.isnull().sum()\n",
    "# Null values are not present"
   ]
  },
  {
   "cell_type": "code",
   "execution_count": 51,
   "id": "6b1dd7ac",
   "metadata": {},
   "outputs": [
    {
     "data": {
      "text/html": [
       "<div>\n",
       "<style scoped>\n",
       "    .dataframe tbody tr th:only-of-type {\n",
       "        vertical-align: middle;\n",
       "    }\n",
       "\n",
       "    .dataframe tbody tr th {\n",
       "        vertical-align: top;\n",
       "    }\n",
       "\n",
       "    .dataframe thead th {\n",
       "        text-align: right;\n",
       "    }\n",
       "</style>\n",
       "<table border=\"1\" class=\"dataframe\">\n",
       "  <thead>\n",
       "    <tr style=\"text-align: right;\">\n",
       "      <th></th>\n",
       "      <th>area(hectre)</th>\n",
       "      <th>production(million)</th>\n",
       "    </tr>\n",
       "  </thead>\n",
       "  <tbody>\n",
       "    <tr>\n",
       "      <th>count</th>\n",
       "      <td>50.000000</td>\n",
       "      <td>50.000000</td>\n",
       "    </tr>\n",
       "    <tr>\n",
       "      <th>mean</th>\n",
       "      <td>3358.838000</td>\n",
       "      <td>23709.524000</td>\n",
       "    </tr>\n",
       "    <tr>\n",
       "      <th>std</th>\n",
       "      <td>2909.000685</td>\n",
       "      <td>24269.912474</td>\n",
       "    </tr>\n",
       "    <tr>\n",
       "      <th>min</th>\n",
       "      <td>1039.800000</td>\n",
       "      <td>4220.100000</td>\n",
       "    </tr>\n",
       "    <tr>\n",
       "      <th>25%</th>\n",
       "      <td>1197.800000</td>\n",
       "      <td>6887.675000</td>\n",
       "    </tr>\n",
       "    <tr>\n",
       "      <th>50%</th>\n",
       "      <td>2544.250000</td>\n",
       "      <td>11308.100000</td>\n",
       "    </tr>\n",
       "    <tr>\n",
       "      <th>75%</th>\n",
       "      <td>2946.450000</td>\n",
       "      <td>25892.825000</td>\n",
       "    </tr>\n",
       "    <tr>\n",
       "      <th>max</th>\n",
       "      <td>9223.700000</td>\n",
       "      <td>83332.800000</td>\n",
       "    </tr>\n",
       "  </tbody>\n",
       "</table>\n",
       "</div>"
      ],
      "text/plain": [
       "       area(hectre)  production(million)\n",
       "count     50.000000            50.000000\n",
       "mean    3358.838000         23709.524000\n",
       "std     2909.000685         24269.912474\n",
       "min     1039.800000          4220.100000\n",
       "25%     1197.800000          6887.675000\n",
       "50%     2544.250000         11308.100000\n",
       "75%     2946.450000         25892.825000\n",
       "max     9223.700000         83332.800000"
      ]
     },
     "execution_count": 51,
     "metadata": {},
     "output_type": "execute_result"
    }
   ],
   "source": [
    "df.describe()\n",
    "# display descriptive statistics of float type columns"
   ]
  },
  {
   "cell_type": "markdown",
   "id": "2668b990",
   "metadata": {},
   "source": [
    "### descriptive analysis"
   ]
  },
  {
   "cell_type": "code",
   "execution_count": 11,
   "id": "65e6b616",
   "metadata": {},
   "outputs": [
    {
     "data": {
      "text/plain": [
       "wheat        10\n",
       "Rice         10\n",
       "sugarcane    10\n",
       "cotton       10\n",
       "Maize        10\n",
       "Name: crops, dtype: int64"
      ]
     },
     "execution_count": 11,
     "metadata": {},
     "output_type": "execute_result"
    }
   ],
   "source": [
    "# find different crops in dataset\n",
    "df['crops'].value_counts()"
   ]
  },
  {
   "cell_type": "markdown",
   "id": "cad9931b",
   "metadata": {},
   "source": [
    "#### Analysis on maize crop"
   ]
  },
  {
   "cell_type": "code",
   "execution_count": 52,
   "id": "01307a7d",
   "metadata": {},
   "outputs": [],
   "source": [
    "# analyze the maize crop data 2011-2021 \n",
    "# how much area is used to cultivate maize crop every year in pakistan\n",
    "# find average, maximum and minimum  maize production in last 10 years\n",
    "# display production of aech year with bar graph\n",
    "# conclude the result that production is increasing or decreasing.\n"
   ]
  },
  {
   "cell_type": "code",
   "execution_count": 12,
   "id": "30ab1d95",
   "metadata": {},
   "outputs": [],
   "source": [
    "maize=df[df['crops']=='Maize']"
   ]
  },
  {
   "cell_type": "code",
   "execution_count": 13,
   "id": "deeb9b93",
   "metadata": {},
   "outputs": [
    {
     "data": {
      "text/html": [
       "<div>\n",
       "<style scoped>\n",
       "    .dataframe tbody tr th:only-of-type {\n",
       "        vertical-align: middle;\n",
       "    }\n",
       "\n",
       "    .dataframe tbody tr th {\n",
       "        vertical-align: top;\n",
       "    }\n",
       "\n",
       "    .dataframe thead th {\n",
       "        text-align: right;\n",
       "    }\n",
       "</style>\n",
       "<table border=\"1\" class=\"dataframe\">\n",
       "  <thead>\n",
       "    <tr style=\"text-align: right;\">\n",
       "      <th></th>\n",
       "      <th>years</th>\n",
       "      <th>crops</th>\n",
       "      <th>area(hectre)</th>\n",
       "      <th>production(million)</th>\n",
       "    </tr>\n",
       "  </thead>\n",
       "  <tbody>\n",
       "    <tr>\n",
       "      <th>10</th>\n",
       "      <td>2011-12</td>\n",
       "      <td>Maize</td>\n",
       "      <td>1087.3</td>\n",
       "      <td>4338.3</td>\n",
       "    </tr>\n",
       "    <tr>\n",
       "      <th>11</th>\n",
       "      <td>2012-13</td>\n",
       "      <td>Maize</td>\n",
       "      <td>1059.5</td>\n",
       "      <td>4220.1</td>\n",
       "    </tr>\n",
       "    <tr>\n",
       "      <th>12</th>\n",
       "      <td>2013-14</td>\n",
       "      <td>Maize</td>\n",
       "      <td>1168.5</td>\n",
       "      <td>4944.2</td>\n",
       "    </tr>\n",
       "    <tr>\n",
       "      <th>13</th>\n",
       "      <td>2014-15</td>\n",
       "      <td>Maize</td>\n",
       "      <td>1142.5</td>\n",
       "      <td>4936.8</td>\n",
       "    </tr>\n",
       "    <tr>\n",
       "      <th>14</th>\n",
       "      <td>2015-16</td>\n",
       "      <td>Maize</td>\n",
       "      <td>1191.2</td>\n",
       "      <td>5270.9</td>\n",
       "    </tr>\n",
       "    <tr>\n",
       "      <th>15</th>\n",
       "      <td>2016-17</td>\n",
       "      <td>Maize</td>\n",
       "      <td>1348.4</td>\n",
       "      <td>6134.2</td>\n",
       "    </tr>\n",
       "    <tr>\n",
       "      <th>16</th>\n",
       "      <td>2017-18</td>\n",
       "      <td>Maize</td>\n",
       "      <td>1250.8</td>\n",
       "      <td>5901.6</td>\n",
       "    </tr>\n",
       "    <tr>\n",
       "      <th>17</th>\n",
       "      <td>2018-19</td>\n",
       "      <td>Maize</td>\n",
       "      <td>1373.9</td>\n",
       "      <td>6826.4</td>\n",
       "    </tr>\n",
       "    <tr>\n",
       "      <th>18</th>\n",
       "      <td>2019-20</td>\n",
       "      <td>Maize</td>\n",
       "      <td>1404.2</td>\n",
       "      <td>7883.0</td>\n",
       "    </tr>\n",
       "    <tr>\n",
       "      <th>19</th>\n",
       "      <td>2020-21</td>\n",
       "      <td>Maize</td>\n",
       "      <td>1417.8</td>\n",
       "      <td>8939.8</td>\n",
       "    </tr>\n",
       "  </tbody>\n",
       "</table>\n",
       "</div>"
      ],
      "text/plain": [
       "      years  crops  area(hectre)  production(million)\n",
       "10  2011-12  Maize        1087.3               4338.3\n",
       "11  2012-13  Maize        1059.5               4220.1\n",
       "12  2013-14  Maize        1168.5               4944.2\n",
       "13  2014-15  Maize        1142.5               4936.8\n",
       "14  2015-16  Maize        1191.2               5270.9\n",
       "15  2016-17  Maize        1348.4               6134.2\n",
       "16  2017-18  Maize        1250.8               5901.6\n",
       "17  2018-19  Maize        1373.9               6826.4\n",
       "18  2019-20  Maize        1404.2               7883.0\n",
       "19  2020-21  Maize        1417.8               8939.8"
      ]
     },
     "execution_count": 13,
     "metadata": {},
     "output_type": "execute_result"
    }
   ],
   "source": [
    "maize.head(10)"
   ]
  },
  {
   "cell_type": "code",
   "execution_count": 14,
   "id": "fcb36dd1",
   "metadata": {},
   "outputs": [
    {
     "name": "stdout",
     "output_type": "stream",
     "text": [
      "average  area of maize crop in pakistan:  1244.4099999999999 hecters\n"
     ]
    }
   ],
   "source": [
    "# average area of maize crop in last 10 years\n",
    "print(\"average  area of maize crop in pakistan: \",maize['area(hectre)'].mean(),\"hecters\")"
   ]
  },
  {
   "cell_type": "code",
   "execution_count": 15,
   "id": "05657a1d",
   "metadata": {},
   "outputs": [
    {
     "name": "stdout",
     "output_type": "stream",
     "text": [
      "average  production of maize crop in pakistan:  5939.530000000001 million tons\n"
     ]
    }
   ],
   "source": [
    "# average production of maize crop in last 10 years\n",
    "print(\"average  production of maize crop in pakistan: \",maize['production(million)'].mean(),\"million tons\")"
   ]
  },
  {
   "cell_type": "code",
   "execution_count": 16,
   "id": "a5c4c9cd",
   "metadata": {},
   "outputs": [
    {
     "name": "stdout",
     "output_type": "stream",
     "text": [
      "maximum area of maize crop  1417.8 hecters\n",
      "maximum area of maize crop  1059.5 hecters\n"
     ]
    }
   ],
   "source": [
    "# maximum area of maize cropping in which year\n",
    "print('maximum area of maize crop ',maize['area(hectre)'].max(),'hecters')\n",
    "# minimum area of maize crop\n",
    "print('maximum area of maize crop ',maize['area(hectre)'].min(),'hecters')"
   ]
  },
  {
   "cell_type": "code",
   "execution_count": 17,
   "id": "9b7c42d3",
   "metadata": {},
   "outputs": [
    {
     "name": "stdout",
     "output_type": "stream",
     "text": [
      "maximum production of maize crop  8939.8 million tons\n",
      "maximum production of maize crop  4220.1 million tons\n"
     ]
    }
   ],
   "source": [
    "# maximum area of maize cropping in which year\n",
    "print('maximum production of maize crop ',maize['production(million)'].max(),'million tons')\n",
    "# minimum area of maize crop\n",
    "print('maximum production of maize crop ',maize['production(million)'].min(),'million tons')"
   ]
  },
  {
   "cell_type": "code",
   "execution_count": 18,
   "id": "bb957582",
   "metadata": {},
   "outputs": [
    {
     "data": {
      "text/plain": [
       "1548.0511612633763"
      ]
     },
     "execution_count": 18,
     "metadata": {},
     "output_type": "execute_result"
    }
   ],
   "source": [
    "# production difference w.r.t years\n",
    "maize['production(million)'].std()"
   ]
  },
  {
   "cell_type": "code",
   "execution_count": 19,
   "id": "7cb9f2e5",
   "metadata": {},
   "outputs": [
    {
     "data": {
      "text/plain": [
       "<AxesSubplot:>"
      ]
     },
     "execution_count": 19,
     "metadata": {},
     "output_type": "execute_result"
    },
    {
     "data": {
      "image/png": "[encoded data removed]",
      "text/plain": [
       "<Figure size 432x288 with 1 Axes>"
      ]
     },
     "metadata": {
      "needs_background": "light"
     },
     "output_type": "display_data"
    }
   ],
   "source": [
    "maize['production(million)'].plot()"
   ]
  },
  {
   "cell_type": "code",
   "execution_count": 20,
   "id": "f8a40de6",
   "metadata": {},
   "outputs": [
    {
     "name": "stderr",
     "output_type": "stream",
     "text": [
      "C:\\ProgramData\\Anaconda3\\lib\\site-packages\\seaborn\\_decorators.py:36: FutureWarning: Pass the following variables as keyword args: x, y. From version 0.12, the only valid positional argument will be `data`, and passing other arguments without an explicit keyword will result in an error or misinterpretation.\n",
      "  warnings.warn(\n"
     ]
    },
    {
     "data": {
      "image/png": "[encoded data removed]",
      "text/plain": [
       "<Figure size 720x360 with 1 Axes>"
      ]
     },
     "metadata": {
      "needs_background": "light"
     },
     "output_type": "display_data"
    }
   ],
   "source": [
    "plt.figure(figsize=(10,5))\n",
    "sns.barplot(maize['years'],maize['production(million)'])\n",
    "plt.show()"
   ]
  },
  {
   "cell_type": "markdown",
   "id": "8627151e",
   "metadata": {},
   "source": [
    "#### Cotton Analysis"
   ]
  },
  {
   "cell_type": "code",
   "execution_count": 54,
   "id": "fbe92572",
   "metadata": {},
   "outputs": [],
   "source": [
    "# analyze the cotton crop data 2011-2021 \n",
    "# how much area is used to cultivate cotton crop every year in pakistan\n",
    "# find average, maximum and minimum  cotton production in last 10 years\n",
    "# display production of aech year with bar graph\n",
    "# conclude the result that production is increasing or decreasing."
   ]
  },
  {
   "cell_type": "code",
   "execution_count": 21,
   "id": "1919edb3",
   "metadata": {},
   "outputs": [],
   "source": [
    "cotton = df[df['crops']=='cotton']"
   ]
  },
  {
   "cell_type": "code",
   "execution_count": 22,
   "id": "42e72d2d",
   "metadata": {},
   "outputs": [
    {
     "data": {
      "text/html": [
       "<div>\n",
       "<style scoped>\n",
       "    .dataframe tbody tr th:only-of-type {\n",
       "        vertical-align: middle;\n",
       "    }\n",
       "\n",
       "    .dataframe tbody tr th {\n",
       "        vertical-align: top;\n",
       "    }\n",
       "\n",
       "    .dataframe thead th {\n",
       "        text-align: right;\n",
       "    }\n",
       "</style>\n",
       "<table border=\"1\" class=\"dataframe\">\n",
       "  <thead>\n",
       "    <tr style=\"text-align: right;\">\n",
       "      <th></th>\n",
       "      <th>years</th>\n",
       "      <th>crops</th>\n",
       "      <th>area(hectre)</th>\n",
       "      <th>production(million)</th>\n",
       "    </tr>\n",
       "  </thead>\n",
       "  <tbody>\n",
       "    <tr>\n",
       "      <th>40</th>\n",
       "      <td>2011-12</td>\n",
       "      <td>cotton</td>\n",
       "      <td>2834.5</td>\n",
       "      <td>13595.0</td>\n",
       "    </tr>\n",
       "    <tr>\n",
       "      <th>41</th>\n",
       "      <td>2012-13</td>\n",
       "      <td>cotton</td>\n",
       "      <td>2878.8</td>\n",
       "      <td>13030.7</td>\n",
       "    </tr>\n",
       "    <tr>\n",
       "      <th>42</th>\n",
       "      <td>2013-14</td>\n",
       "      <td>cotton</td>\n",
       "      <td>2805.7</td>\n",
       "      <td>12768.9</td>\n",
       "    </tr>\n",
       "    <tr>\n",
       "      <th>43</th>\n",
       "      <td>2014-15</td>\n",
       "      <td>cotton</td>\n",
       "      <td>2961.3</td>\n",
       "      <td>13959.6</td>\n",
       "    </tr>\n",
       "    <tr>\n",
       "      <th>44</th>\n",
       "      <td>2015-16</td>\n",
       "      <td>cotton</td>\n",
       "      <td>2901.9</td>\n",
       "      <td>9917.4</td>\n",
       "    </tr>\n",
       "    <tr>\n",
       "      <th>45</th>\n",
       "      <td>2016-17</td>\n",
       "      <td>cotton</td>\n",
       "      <td>2488.9</td>\n",
       "      <td>10670.6</td>\n",
       "    </tr>\n",
       "    <tr>\n",
       "      <th>46</th>\n",
       "      <td>2017-18</td>\n",
       "      <td>cotton</td>\n",
       "      <td>2700.3</td>\n",
       "      <td>11945.6</td>\n",
       "    </tr>\n",
       "    <tr>\n",
       "      <th>47</th>\n",
       "      <td>2018-19</td>\n",
       "      <td>cotton</td>\n",
       "      <td>2373.0</td>\n",
       "      <td>9860.8</td>\n",
       "    </tr>\n",
       "    <tr>\n",
       "      <th>48</th>\n",
       "      <td>2019-20</td>\n",
       "      <td>cotton</td>\n",
       "      <td>2517.3</td>\n",
       "      <td>9148.0</td>\n",
       "    </tr>\n",
       "    <tr>\n",
       "      <th>49</th>\n",
       "      <td>2020-21</td>\n",
       "      <td>cotton</td>\n",
       "      <td>2078.9</td>\n",
       "      <td>7063.9</td>\n",
       "    </tr>\n",
       "  </tbody>\n",
       "</table>\n",
       "</div>"
      ],
      "text/plain": [
       "      years   crops  area(hectre)  production(million)\n",
       "40  2011-12  cotton        2834.5              13595.0\n",
       "41  2012-13  cotton        2878.8              13030.7\n",
       "42  2013-14  cotton        2805.7              12768.9\n",
       "43  2014-15  cotton        2961.3              13959.6\n",
       "44  2015-16  cotton        2901.9               9917.4\n",
       "45  2016-17  cotton        2488.9              10670.6\n",
       "46  2017-18  cotton        2700.3              11945.6\n",
       "47  2018-19  cotton        2373.0               9860.8\n",
       "48  2019-20  cotton        2517.3               9148.0\n",
       "49  2020-21  cotton        2078.9               7063.9"
      ]
     },
     "execution_count": 22,
     "metadata": {},
     "output_type": "execute_result"
    }
   ],
   "source": [
    "cotton.head(10)"
   ]
  },
  {
   "cell_type": "code",
   "execution_count": 55,
   "id": "0a07cbe7",
   "metadata": {},
   "outputs": [
    {
     "name": "stdout",
     "output_type": "stream",
     "text": [
      "maximum area of cotton crop in pakistan in last 10 years 2961.3 hecters\n",
      "minimum area of cotton crop in pakistan in last 10 years 2078.9 hecters\n"
     ]
    }
   ],
   "source": [
    "# maximum area of cotton crop in pakistan in last 10 years \n",
    "print('maximum area of cotton crop in pakistan in last 10 years',cotton['area(hectre)'].max(),'hecters')\n",
    "# minimum area of cotton crop in pakistan in last 10 years\n",
    "print('minimum area of cotton crop in pakistan in last 10 years',cotton['area(hectre)'].min(),'hecters')"
   ]
  },
  {
   "cell_type": "code",
   "execution_count": 56,
   "id": "5471665f",
   "metadata": {},
   "outputs": [
    {
     "name": "stdout",
     "output_type": "stream",
     "text": [
      "maximum production of cotton crop in pakistan in last 10 years 13959.6 million bids\n",
      "minimum production of cotton crop in pakistan in last 10 years 7063.9 million bids\n"
     ]
    }
   ],
   "source": [
    "# maximum production of cotton crop in pakistan in last 10 years\n",
    "print('maximum production of cotton crop in pakistan in last 10 years',cotton['production(million)'].max(),'million bids')\n",
    "# minimum production of cotton crop in pakistan in last 10 years 7063.9 million bids\n",
    "print('minimum production of cotton crop in pakistan in last 10 years',cotton['production(million)'].min(),'million bids')"
   ]
  },
  {
   "cell_type": "code",
   "execution_count": 57,
   "id": "d6edd93c",
   "metadata": {},
   "outputs": [
    {
     "name": "stdout",
     "output_type": "stream",
     "text": [
      "average production of cotton crop in pakistan in last 10 years 11196.05 million bids\n"
     ]
    }
   ],
   "source": [
    "# average production of cotton crop in pakistan in last 10 years\n",
    "print('average production of cotton crop in pakistan in last 10 years',cotton['production(million)'].mean(),'million bids')"
   ]
  },
  {
   "cell_type": "code",
   "execution_count": 26,
   "id": "c0985f4a",
   "metadata": {},
   "outputs": [
    {
     "name": "stderr",
     "output_type": "stream",
     "text": [
      "C:\\ProgramData\\Anaconda3\\lib\\site-packages\\seaborn\\_decorators.py:36: FutureWarning: Pass the following variables as keyword args: x, y. From version 0.12, the only valid positional argument will be `data`, and passing other arguments without an explicit keyword will result in an error or misinterpretation.\n",
      "  warnings.warn(\n"
     ]
    },
    {
     "data": {
      "image/png": "[encoded data removed]",
      "text/plain": [
       "<Figure size 720x360 with 1 Axes>"
      ]
     },
     "metadata": {
      "needs_background": "light"
     },
     "output_type": "display_data"
    }
   ],
   "source": [
    "plt.figure(figsize=(10,5))\n",
    "sns.barplot(cotton['years'],cotton['production(million)'])\n",
    "plt.show()"
   ]
  },
  {
   "cell_type": "markdown",
   "id": "d5483357",
   "metadata": {},
   "source": [
    "#### Wheat crop analysis"
   ]
  },
  {
   "cell_type": "code",
   "execution_count": 58,
   "id": "a8ed548d",
   "metadata": {},
   "outputs": [],
   "source": [
    "# analyze the wheat crop data 2011-2021 \n",
    "# how much area is used to cultivate wheat crop every year in pakistan\n",
    "# find average, maximum and minimum  wheat production in last 10 years\n",
    "# display production of aech year with bar graph\n",
    "# conclude the result that production is increasing or decreasing."
   ]
  },
  {
   "cell_type": "code",
   "execution_count": 27,
   "id": "30e9386f",
   "metadata": {},
   "outputs": [],
   "source": [
    "wheat = df[df['crops']=='wheat']"
   ]
  },
  {
   "cell_type": "code",
   "execution_count": 28,
   "id": "c788f8cd",
   "metadata": {},
   "outputs": [
    {
     "data": {
      "text/html": [
       "<div>\n",
       "<style scoped>\n",
       "    .dataframe tbody tr th:only-of-type {\n",
       "        vertical-align: middle;\n",
       "    }\n",
       "\n",
       "    .dataframe tbody tr th {\n",
       "        vertical-align: top;\n",
       "    }\n",
       "\n",
       "    .dataframe thead th {\n",
       "        text-align: right;\n",
       "    }\n",
       "</style>\n",
       "<table border=\"1\" class=\"dataframe\">\n",
       "  <thead>\n",
       "    <tr style=\"text-align: right;\">\n",
       "      <th></th>\n",
       "      <th>years</th>\n",
       "      <th>crops</th>\n",
       "      <th>area(hectre)</th>\n",
       "      <th>production(million)</th>\n",
       "    </tr>\n",
       "  </thead>\n",
       "  <tbody>\n",
       "    <tr>\n",
       "      <th>0</th>\n",
       "      <td>2011-12</td>\n",
       "      <td>wheat</td>\n",
       "      <td>8649.8</td>\n",
       "      <td>23473.4</td>\n",
       "    </tr>\n",
       "    <tr>\n",
       "      <th>1</th>\n",
       "      <td>2012-13</td>\n",
       "      <td>wheat</td>\n",
       "      <td>8660.2</td>\n",
       "      <td>24211.4</td>\n",
       "    </tr>\n",
       "    <tr>\n",
       "      <th>2</th>\n",
       "      <td>2013-14</td>\n",
       "      <td>wheat</td>\n",
       "      <td>9199.3</td>\n",
       "      <td>25979.4</td>\n",
       "    </tr>\n",
       "    <tr>\n",
       "      <th>3</th>\n",
       "      <td>2014-15</td>\n",
       "      <td>wheat</td>\n",
       "      <td>9203.9</td>\n",
       "      <td>25086.1</td>\n",
       "    </tr>\n",
       "    <tr>\n",
       "      <th>4</th>\n",
       "      <td>2015-16</td>\n",
       "      <td>wheat</td>\n",
       "      <td>9223.7</td>\n",
       "      <td>25633.1</td>\n",
       "    </tr>\n",
       "    <tr>\n",
       "      <th>5</th>\n",
       "      <td>2016-17</td>\n",
       "      <td>wheat</td>\n",
       "      <td>8972.5</td>\n",
       "      <td>26673.6</td>\n",
       "    </tr>\n",
       "    <tr>\n",
       "      <th>6</th>\n",
       "      <td>2017-18</td>\n",
       "      <td>wheat</td>\n",
       "      <td>8797.2</td>\n",
       "      <td>25076.1</td>\n",
       "    </tr>\n",
       "    <tr>\n",
       "      <th>7</th>\n",
       "      <td>2018-19</td>\n",
       "      <td>wheat</td>\n",
       "      <td>8677.7</td>\n",
       "      <td>24349.0</td>\n",
       "    </tr>\n",
       "    <tr>\n",
       "      <th>8</th>\n",
       "      <td>2019-20</td>\n",
       "      <td>wheat</td>\n",
       "      <td>8804.7</td>\n",
       "      <td>25247.5</td>\n",
       "    </tr>\n",
       "    <tr>\n",
       "      <th>9</th>\n",
       "      <td>2020-21</td>\n",
       "      <td>wheat</td>\n",
       "      <td>9168.2</td>\n",
       "      <td>27464.1</td>\n",
       "    </tr>\n",
       "  </tbody>\n",
       "</table>\n",
       "</div>"
      ],
      "text/plain": [
       "     years  crops  area(hectre)  production(million)\n",
       "0  2011-12  wheat        8649.8              23473.4\n",
       "1  2012-13  wheat        8660.2              24211.4\n",
       "2  2013-14  wheat        9199.3              25979.4\n",
       "3  2014-15  wheat        9203.9              25086.1\n",
       "4  2015-16  wheat        9223.7              25633.1\n",
       "5  2016-17  wheat        8972.5              26673.6\n",
       "6  2017-18  wheat        8797.2              25076.1\n",
       "7  2018-19  wheat        8677.7              24349.0\n",
       "8  2019-20  wheat        8804.7              25247.5\n",
       "9  2020-21  wheat        9168.2              27464.1"
      ]
     },
     "execution_count": 28,
     "metadata": {},
     "output_type": "execute_result"
    }
   ],
   "source": [
    "wheat.head(10)"
   ]
  },
  {
   "cell_type": "code",
   "execution_count": 59,
   "id": "8f93929c",
   "metadata": {},
   "outputs": [
    {
     "name": "stdout",
     "output_type": "stream",
     "text": [
      "maximum area of wheat crop in pakistan in last 10 years 9223.7  hecters\n",
      "minimum area of wheat crop in pakistan in last 10 years 8649.8  hecters\n"
     ]
    }
   ],
   "source": [
    "# maximum area of wheat crop in pakistan in last 10 years\n",
    "print('maximum area of wheat crop in pakistan in last 10 years',wheat['area(hectre)'].max(),' hecters')\n",
    "# minimum area of wheat crop in pakistan in last 10 years\n",
    "print('minimum area of wheat crop in pakistan in last 10 years',wheat['area(hectre)'].min(),' hecters')"
   ]
  },
  {
   "cell_type": "code",
   "execution_count": 60,
   "id": "64f692cb",
   "metadata": {},
   "outputs": [
    {
     "name": "stdout",
     "output_type": "stream",
     "text": [
      "maximum production of wheat crop in pakistan in last 10 years 27464.1 million tons\n",
      "minimum production of wheat crop in pakistan in last 10 years 23473.4 million tons\n"
     ]
    }
   ],
   "source": [
    "# maximum production of wheat crop in pakistan in last 10 years\n",
    "print('maximum production of wheat crop in pakistan in last 10 years',wheat['production(million)'].max(),'million tons')\n",
    "# minimum production of wheat crop in pakistan in last 10 years\n",
    "print('minimum production of wheat crop in pakistan in last 10 years',wheat['production(million)'].min(),'million tons')"
   ]
  },
  {
   "cell_type": "code",
   "execution_count": 61,
   "id": "f3d1c2a6",
   "metadata": {},
   "outputs": [
    {
     "name": "stdout",
     "output_type": "stream",
     "text": [
      "average production of wheat crop in pakistan in last 10 years 25319.370000000003 million tons\n"
     ]
    }
   ],
   "source": [
    "#average production of wheat crop in pakistan in last 10 years\n",
    "print('average production of wheat crop in pakistan in last 10 years',wheat['production(million)'].mean(),'million tons')"
   ]
  },
  {
   "cell_type": "code",
   "execution_count": 32,
   "id": "3c4f6c5e",
   "metadata": {},
   "outputs": [
    {
     "name": "stderr",
     "output_type": "stream",
     "text": [
      "C:\\ProgramData\\Anaconda3\\lib\\site-packages\\seaborn\\_decorators.py:36: FutureWarning: Pass the following variables as keyword args: x, y. From version 0.12, the only valid positional argument will be `data`, and passing other arguments without an explicit keyword will result in an error or misinterpretation.\n",
      "  warnings.warn(\n"
     ]
    },
    {
     "data": {
      "image/png": "[encoded data removed]",
      "text/plain": [
       "<Figure size 720x360 with 1 Axes>"
      ]
     },
     "metadata": {
      "needs_background": "light"
     },
     "output_type": "display_data"
    }
   ],
   "source": [
    "plt.figure(figsize=(10,5))\n",
    "sns.barplot(wheat['years'],wheat['production(million)'])\n",
    "plt.show()"
   ]
  },
  {
   "cell_type": "markdown",
   "id": "45f8c011",
   "metadata": {},
   "source": [
    "#### Rice crop analysis"
   ]
  },
  {
   "cell_type": "code",
   "execution_count": 62,
   "id": "4c520c20",
   "metadata": {},
   "outputs": [],
   "source": [
    "# analyze the wheat crop data 2011-2021 \n",
    "# how much area is used to cultivate wheat crop every year in pakistan\n",
    "# find average, maximum and minimum  wheat production in last 10 years\n",
    "# display production of aech year with bar graph\n",
    "# conclude the result that production is increasing or decreasing."
   ]
  },
  {
   "cell_type": "code",
   "execution_count": 63,
   "id": "25d732e2",
   "metadata": {},
   "outputs": [],
   "source": [
    "rice = df[df['crops']=='Rice']"
   ]
  },
  {
   "cell_type": "code",
   "execution_count": 64,
   "id": "961fe0ff",
   "metadata": {},
   "outputs": [
    {
     "data": {
      "text/html": [
       "<div>\n",
       "<style scoped>\n",
       "    .dataframe tbody tr th:only-of-type {\n",
       "        vertical-align: middle;\n",
       "    }\n",
       "\n",
       "    .dataframe tbody tr th {\n",
       "        vertical-align: top;\n",
       "    }\n",
       "\n",
       "    .dataframe thead th {\n",
       "        text-align: right;\n",
       "    }\n",
       "</style>\n",
       "<table border=\"1\" class=\"dataframe\">\n",
       "  <thead>\n",
       "    <tr style=\"text-align: right;\">\n",
       "      <th></th>\n",
       "      <th>years</th>\n",
       "      <th>crops</th>\n",
       "      <th>area(hectre)</th>\n",
       "      <th>production(million)</th>\n",
       "    </tr>\n",
       "  </thead>\n",
       "  <tbody>\n",
       "    <tr>\n",
       "      <th>20</th>\n",
       "      <td>2011-12</td>\n",
       "      <td>Rice</td>\n",
       "      <td>2571.2</td>\n",
       "      <td>6160.4</td>\n",
       "    </tr>\n",
       "    <tr>\n",
       "      <th>21</th>\n",
       "      <td>2012-13</td>\n",
       "      <td>Rice</td>\n",
       "      <td>2308.8</td>\n",
       "      <td>5535.9</td>\n",
       "    </tr>\n",
       "    <tr>\n",
       "      <th>22</th>\n",
       "      <td>2013-14</td>\n",
       "      <td>Rice</td>\n",
       "      <td>2789.2</td>\n",
       "      <td>6798.1</td>\n",
       "    </tr>\n",
       "    <tr>\n",
       "      <th>23</th>\n",
       "      <td>2014-15</td>\n",
       "      <td>Rice</td>\n",
       "      <td>2890.6</td>\n",
       "      <td>7002.8</td>\n",
       "    </tr>\n",
       "    <tr>\n",
       "      <th>24</th>\n",
       "      <td>2015-16</td>\n",
       "      <td>Rice</td>\n",
       "      <td>2739.5</td>\n",
       "      <td>6801.3</td>\n",
       "    </tr>\n",
       "    <tr>\n",
       "      <th>25</th>\n",
       "      <td>2016-17</td>\n",
       "      <td>Rice</td>\n",
       "      <td>2724.0</td>\n",
       "      <td>6849.3</td>\n",
       "    </tr>\n",
       "    <tr>\n",
       "      <th>26</th>\n",
       "      <td>2017-18</td>\n",
       "      <td>Rice</td>\n",
       "      <td>2900.6</td>\n",
       "      <td>7449.8</td>\n",
       "    </tr>\n",
       "    <tr>\n",
       "      <th>27</th>\n",
       "      <td>2018-19</td>\n",
       "      <td>Rice</td>\n",
       "      <td>2810.0</td>\n",
       "      <td>7202.0</td>\n",
       "    </tr>\n",
       "    <tr>\n",
       "      <th>28</th>\n",
       "      <td>2019-20</td>\n",
       "      <td>Rice</td>\n",
       "      <td>3034.0</td>\n",
       "      <td>7413.7</td>\n",
       "    </tr>\n",
       "    <tr>\n",
       "      <th>29</th>\n",
       "      <td>2020-21</td>\n",
       "      <td>Rice</td>\n",
       "      <td>3335.1</td>\n",
       "      <td>8419.7</td>\n",
       "    </tr>\n",
       "  </tbody>\n",
       "</table>\n",
       "</div>"
      ],
      "text/plain": [
       "      years crops  area(hectre)  production(million)\n",
       "20  2011-12  Rice        2571.2               6160.4\n",
       "21  2012-13  Rice        2308.8               5535.9\n",
       "22  2013-14  Rice        2789.2               6798.1\n",
       "23  2014-15  Rice        2890.6               7002.8\n",
       "24  2015-16  Rice        2739.5               6801.3\n",
       "25  2016-17  Rice        2724.0               6849.3\n",
       "26  2017-18  Rice        2900.6               7449.8\n",
       "27  2018-19  Rice        2810.0               7202.0\n",
       "28  2019-20  Rice        3034.0               7413.7\n",
       "29  2020-21  Rice        3335.1               8419.7"
      ]
     },
     "execution_count": 64,
     "metadata": {},
     "output_type": "execute_result"
    }
   ],
   "source": [
    "rice"
   ]
  },
  {
   "cell_type": "code",
   "execution_count": 66,
   "id": "8d230bed",
   "metadata": {},
   "outputs": [
    {
     "name": "stdout",
     "output_type": "stream",
     "text": [
      "maximum area of rice crop in pakistan in last 10 years 3335.1 hecters\n",
      "minimum area of rice crop in pakistan in last 10 years 2308.8 hecters\n"
     ]
    }
   ],
   "source": [
    "# maximum area of rice crop in pakistan in last 10 years\n",
    "print('maximum area of rice crop in pakistan in last 10 years',rice['area(hectre)'].max(),'hecters')\n",
    "# minimum area of rice crop in pakistan in last 10 years \n",
    "print('minimum area of rice crop in pakistan in last 10 years',rice['area(hectre)'].min(),'hecters')"
   ]
  },
  {
   "cell_type": "code",
   "execution_count": 67,
   "id": "d1d4bd85",
   "metadata": {},
   "outputs": [
    {
     "name": "stdout",
     "output_type": "stream",
     "text": [
      "maximum production of rice crop in pakistan in last 10 years 8419.7 million tons\n",
      "minimum production of rice crop in pakistan in last 10 years 5535.9 million tons\n"
     ]
    }
   ],
   "source": [
    "# maximum production of rice crop in pakistan in last 10 year\n",
    "print('maximum production of rice crop in pakistan in last 10 years',rice['production(million)'].max(),'million tons')\n",
    "# minimum production of rice crop in pakistan in last 10 years\n",
    "print('minimum production of rice crop in pakistan in last 10 years',rice['production(million)'].min(),'million tons')"
   ]
  },
  {
   "cell_type": "code",
   "execution_count": 68,
   "id": "7524fa8a",
   "metadata": {
    "scrolled": true
   },
   "outputs": [
    {
     "name": "stdout",
     "output_type": "stream",
     "text": [
      "average production of rice crop in pakistan in last 10 years 6963.3 million tons\n"
     ]
    }
   ],
   "source": [
    "# average production of rice crop in pakistan in last 10 years\n",
    "print('average production of rice crop in pakistan in last 10 years',rice['production(million)'].mean(),'million tons')"
   ]
  },
  {
   "cell_type": "code",
   "execution_count": 69,
   "id": "eab879d2",
   "metadata": {},
   "outputs": [
    {
     "name": "stderr",
     "output_type": "stream",
     "text": [
      "C:\\ProgramData\\Anaconda3\\lib\\site-packages\\seaborn\\_decorators.py:36: FutureWarning: Pass the following variables as keyword args: x, y. From version 0.12, the only valid positional argument will be `data`, and passing other arguments without an explicit keyword will result in an error or misinterpretation.\n",
      "  warnings.warn(\n"
     ]
    },
    {
     "data": {
      "image/png": "[encoded data removed]",
      "text/plain": [
       "<Figure size 720x360 with 1 Axes>"
      ]
     },
     "metadata": {
      "needs_background": "light"
     },
     "output_type": "display_data"
    }
   ],
   "source": [
    "plt.figure(figsize=(10,5))\n",
    "sns.barplot(rice['years'],rice['production(million)'])\n",
    "plt.show()"
   ]
  },
  {
   "cell_type": "markdown",
   "id": "5aa56271",
   "metadata": {},
   "source": [
    "#### SUGARCANE Analysis"
   ]
  },
  {
   "cell_type": "code",
   "execution_count": 70,
   "id": "5fb82217",
   "metadata": {},
   "outputs": [],
   "source": [
    "# analyze the sugarcane crop data 2011-2021 \n",
    "# how much area is used to cultivate sugarcane crop every year in pakistan\n",
    "# find average, maximum and minimum  sugarcane production in last 10 years\n",
    "# display production of aech year with bar graph\n",
    "# conclude the result that production is increasing or decreasing."
   ]
  },
  {
   "cell_type": "code",
   "execution_count": 39,
   "id": "12c7cc19",
   "metadata": {},
   "outputs": [],
   "source": [
    "sugarcane = df[df['crops']=='sugarcane']"
   ]
  },
  {
   "cell_type": "code",
   "execution_count": 71,
   "id": "01e83174",
   "metadata": {},
   "outputs": [
    {
     "name": "stdout",
     "output_type": "stream",
     "text": [
      "maximum area of sugarcane crop in pakistan in last 10 years 1341.8 hecters\n",
      "minimum area of sugarcane crop in pakistan in last 10 years 1039.8 hecters\n"
     ]
    }
   ],
   "source": [
    "# maximum area of sugarcane crop in pakistan in last 10 years\n",
    "print('maximum area of sugarcane crop in pakistan in last 10 years',sugarcane['area(hectre)'].max(),'hecters')\n",
    "# minimum area of sugarcane crop in pakistan in last 10 years\n",
    "print('minimum area of sugarcane crop in pakistan in last 10 years',sugarcane['area(hectre)'].min(),'hecters')"
   ]
  },
  {
   "cell_type": "code",
   "execution_count": 72,
   "id": "b7a50672",
   "metadata": {},
   "outputs": [
    {
     "name": "stdout",
     "output_type": "stream",
     "text": [
      "maximum production of sugarcane crop in pakistan in last 10 years 83332.8 million tons\n",
      "minimum production of sugarcane crop in pakistan in last 10 years 58397.0 million tons\n"
     ]
    }
   ],
   "source": [
    "# maximum production of sugarcane crop in pakistan in last 10 years\n",
    "print('maximum production of sugarcane crop in pakistan in last 10 years',sugarcane['production(million)'].max(),'million tons')\n",
    "# minimum production of sugarcane crop in pakistan in last 10 years|\n",
    "print('minimum production of sugarcane crop in pakistan in last 10 years',sugarcane['production(million)'].min(),'million tons')"
   ]
  },
  {
   "cell_type": "code",
   "execution_count": 42,
   "id": "be5034d8",
   "metadata": {},
   "outputs": [
    {
     "name": "stdout",
     "output_type": "stream",
     "text": [
      "average production of sugarcane crop in pakistan in last 10 years 69129.37000000001 million tons\n"
     ]
    }
   ],
   "source": [
    "print('average production of sugarcane crop in pakistan in last 10 years',sugarcane['production(million)'].mean(),'million tons')"
   ]
  },
  {
   "cell_type": "code",
   "execution_count": 43,
   "id": "e1c60436",
   "metadata": {},
   "outputs": [
    {
     "name": "stderr",
     "output_type": "stream",
     "text": [
      "C:\\ProgramData\\Anaconda3\\lib\\site-packages\\seaborn\\_decorators.py:36: FutureWarning: Pass the following variables as keyword args: x, y. From version 0.12, the only valid positional argument will be `data`, and passing other arguments without an explicit keyword will result in an error or misinterpretation.\n",
      "  warnings.warn(\n"
     ]
    },
    {
     "data": {
      "image/png": "[encoded data removed]",
      "text/plain": [
       "<Figure size 720x360 with 1 Axes>"
      ]
     },
     "metadata": {
      "needs_background": "light"
     },
     "output_type": "display_data"
    }
   ],
   "source": [
    "plt.figure(figsize=(10,5))\n",
    "sns.barplot(sugarcane['years'],sugarcane['production(million)'])\n",
    "plt.show()"
   ]
  },
  {
   "cell_type": "markdown",
   "id": "cfc961cd",
   "metadata": {},
   "source": [
    "#### Average area of each crop cultivation "
   ]
  },
  {
   "cell_type": "code",
   "execution_count": 44,
   "id": "65e82b7b",
   "metadata": {},
   "outputs": [],
   "source": [
    "wheat_mean = wheat['area(hectre)'].mean()\n",
    "maize_mean = maize['area(hectre)'].mean()\n",
    "rice_mean = rice['area(hectre)'].mean()\n",
    "sugarcane_mean = sugarcane['area(hectre)'].mean()\n",
    "cotton_mean = cotton['area(hectre)'].mean()"
   ]
  },
  {
   "cell_type": "code",
   "execution_count": 45,
   "id": "6bf29a44",
   "metadata": {},
   "outputs": [],
   "source": [
    "# pie chart of production of crops\n",
    "data = [wheat_mean,maize_mean,rice_mean,sugarcane_mean,cotton_mean]\n",
    "label = [\"wheat\",\"maize\",\"rice\",\"sugarcane\",\"cotton\"]"
   ]
  },
  {
   "cell_type": "code",
   "execution_count": 46,
   "id": "410cbde6",
   "metadata": {},
   "outputs": [
    {
     "data": {
      "image/png": "[encoded data removed]",
      "text/plain": [
       "<Figure size 504x504 with 1 Axes>"
      ]
     },
     "metadata": {},
     "output_type": "display_data"
    }
   ],
   "source": [
    "plt.figure(figsize=(7,7))\n",
    "plt.pie(data,labels=label,autopct='%1.2f%%')\n",
    "plt.show()"
   ]
  },
  {
   "cell_type": "code",
   "execution_count": null,
   "id": "12257430",
   "metadata": {},
   "outputs": [],
   "source": []
  },
  {
   "cell_type": "code",
   "execution_count": null,
   "id": "09f36fd2",
   "metadata": {},
   "outputs": [],
   "source": []
  }
 ],
 "metadata": {
  "kernelspec": {
   "display_name": "Python 3",
   "language": "python",
   "name": "python3"
  },
  "language_info": {
   "codemirror_mode": {
    "name": "ipython",
    "version": 3
   },
   "file_extension": ".py",
   "mimetype": "text/x-python",
   "name": "python",
   "nbconvert_exporter": "python",
   "pygments_lexer": "ipython3",
   "version": "3.8.8"
  }
 },
 "nbformat": 4,
 "nbformat_minor": 5
}
